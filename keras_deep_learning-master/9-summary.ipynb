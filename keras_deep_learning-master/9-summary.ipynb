{
 "cells": [
  {
   "cell_type": "markdown",
   "metadata": {},
   "source": [
    "# 핵심개념리뷰"
   ]
  },
  {
   "cell_type": "code",
   "execution_count": null,
   "metadata": {},
   "outputs": [],
   "source": [
    "## binary classification\n",
    "from keras import models\n",
    "from keras import layers\n",
    "\n",
    "model = models.Sequential()\n",
    "model.add(layers.Dense(32, activation='relu', input_shape=(num_input_features,)))\n",
    "model.add(layers.Dense(32, activation='relu'))\n",
    "model.add(layers.Dense(1, activation='sigmoid'))\n",
    "\n",
    "model.compile(optimizer='rmsprop', loss='binary_crossentropy')\n",
    "\n",
    "## multi-classification\n",
    "model = models.Sequential()\n",
    "model.add(layers.Dense(32, activation='relu', input_shape=(num_input_features,)))\n",
    "model.add(layers.Dense(32, activation='relu'))\n",
    "model.add(layers.Dense(num_classes, activation='softmax'))\n",
    "\n",
    "model.compile(optimizer='rmsprop', loss='categorical_crossentropy')\n",
    "\n",
    "## multi-label multi-classification\n",
    "model = models.Sequential()\n",
    "model.add(layers.Dense(32, activation='relu', input_shape=(num_input_features,)))\n",
    "model.add(layers.Dense(32, activation='relu'))\n",
    "model.add(layers.Dense(num_classes, activation='sigmoid'))\n",
    "\n",
    "model.compile(optimizer='rmsprop', loss='binary_crossentropy')\n",
    "\n",
    "## regression\n",
    "model = models.Sequential()\n",
    "model.add(layers.Dense(32, activation='relu', input_shape=(num_input_features,)))\n",
    "model.add(layers.Dense(32, activation='relu'))\n",
    "model.add(layers.Dense(num_values))\n",
    "\n",
    "model.compile(optimizer='rmsprop', loss='mse')"
   ]
  },
  {
   "cell_type": "code",
   "execution_count": null,
   "metadata": {},
   "outputs": [],
   "source": [
    "from keras import models\n",
    "from keras import layers\n",
    "\n",
    "model = models.Sequential()\n",
    "model.add(layers.SeparableConv2D(32, 3, activation='relu', \n",
    "                                input_shape=(height, width, channels)))\n",
    "model.add(layers.SeparableConv2D(64, 3, activation='relu'))\n",
    "model.add(layers.MaxPooling2D(2))\n",
    "\n",
    "model.add(layers.SeparableConv2D(64, 3, activation='relu'))\n",
    "model.add(layers.SeparableConv2D(128, 3, activation='relu'))\n",
    "model.add(layers.MaxPooling2D(2))\n",
    "\n",
    "model.add(layers.SeparableConv2D(64, 3, activation='relu'))\n",
    "model.add(layers.SeparableConv2D(128, 3, activation='relu'))\n",
    "model.add(layers.GlobalAveragePooling2D())\n",
    "\n",
    "model.add(layers.Dense(32, activation='relu'))\n",
    "model.add(layers.Dense(num_classes, activation='softmax'))\n",
    "\n",
    "model.compile(optimizer='rmsprop', loss='categorical_crossentropy')"
   ]
  },
  {
   "cell_type": "code",
   "execution_count": null,
   "metadata": {},
   "outputs": [],
   "source": [
    "from keras import models\n",
    "from keras import layers\n",
    "\n",
    "model = models.Sequential()\n",
    "model.add(layers.LSTM(32, return_sequences=True,\n",
    "                    input_shape=(num_timesteps, num_features)))\n",
    "model.add(layers.LSTM(32, return_sequences=True))\n",
    "model.add(layers.LSTM(32))\n",
    "model.add(layers.Dense(num_classes, activation='sigmoid'))\n",
    "\n",
    "model.compile(optimizer='rmsprop', loss='binary_crossentropy')"
   ]
  },
  {
   "cell_type": "markdown",
   "metadata": {},
   "source": [
    "## 딥러닝의 가능성\n",
    "\n",
    "벡터 데이터 -> 벡터 데이터  \n",
    " - 예측 의학: 환자 의료 기록 -> 미래 건강 예측  \n",
    " - 행동 타기팅: 웹 사용 기록 -> 장기간 체류 웹사이트 속성\n",
    " - 품질 제어: 제조 상품 데이터 -> 내년 제품 불량률  \n",
    " \n",
    "이미지 데이터 -> 벡터 데이터  \n",
    " - 의료 진단 보조: 의료 영상 슬라이드 -> 암 진단 예측\n",
    " - 자율 주행 자동차: 자동차 카메라 비디오 데이터 -> 휠 각도 조정\n",
    " - 보드 게임 AI: 바둑, 체스 게임 -> 말의 움직임 예측\n",
    " - 식단 도우미: 음식 사진 -> 칼로리 계산\n",
    " - 나이 예측: 인물 사진 -> 나이 예측  \n",
    " \n",
    "시계열 데이터 -> 벡터 데이터\n",
    " - 날씨예측: 날씨 시계열 데이터 -> 자음 주 날씨 예측\n",
    " - 뇌-컴퓨터 인터페이스: 뇌자도(MEG) 시계열 데이터 -> 컴퓨터 명령 실행\n",
    " - 행동 타기팅: 웹사이트 시계열 사용 데이터 -> 제품 구매 확률 예측  \n",
    " \n",
    "텍스트 -> 텍스트\n",
    " - 스마트 답장: 이메일 -> 가능한 한 줄 답변\n",
    " - 질문 응답: 일반적인 질문 -> 답변\n",
    " - 요약: 긴 글 -> 짧게 요약  \n",
    " \n",
    "이미지 -> 텍스트\n",
    " - 캡셔닝: 이미지 -> 설명하는 짧은 캡션 생성  \n",
    " \n",
    "텍스트 -> 이미지\n",
    " - 조건부 이미지 생성: 짧은 텍스트 설명 -> 이미지 생성\n",
    " - 로고 생성/선택: 회사의 이름이나 설명 -> 회사 로고  \n",
    " \n",
    "이미지 -> 이미지\n",
    " - 초고해상도 변환: 작은 크기의 이미지 -> 고해상도 버전\n",
    " - 공간 깊이 감지: 실내 이미지 -> 공간 지도  \n",
    " \n",
    "이미지와 텍스트 -> 텍스트\n",
    " - 비주얼 QA: 이미지와 이미지 내용에 관한 자연어 질문 -> 자연어 답변  \n",
    " \n",
    "비디오와 텍스트 -> 텍스트\n",
    " - 비디오 QA: 짧은 비디오와 비디오 내용에 관한 자연어 질문 -> 자연어 답변 "
   ]
  },
  {
   "cell_type": "markdown",
   "metadata": {},
   "source": [
    "## Source\n",
    "\n",
    "캐글 (https://kaggle.com)  \n",
    "캐글 코리아 페이스북 그룹 (https://www.facebook.com/groups/KaggleKoreaOpenGroup/)  \n",
    "논문 아카이브 (https://arxiv.org)  \n",
    "아카이브 새니티 프리저버 (http://arxiv-sanity.com)  \n",
    "케라스 온라인 문서 (https://keras.io)  \n",
    "케라스 소스 코드 (https://github.com/keras-team/keras)  \n",
    "케라스 슬랙 채널 (https://kerasteam.slack.com)  \n",
    "케라스 블로그 (https://blog.keras.io)  "
   ]
  }
 ],
 "metadata": {
  "kernelspec": {
   "display_name": "Python 3",
   "language": "python",
   "name": "python3"
  },
  "language_info": {
   "codemirror_mode": {
    "name": "ipython",
    "version": 3
   },
   "file_extension": ".py",
   "mimetype": "text/x-python",
   "name": "python",
   "nbconvert_exporter": "python",
   "pygments_lexer": "ipython3",
   "version": "3.7.4"
  }
 },
 "nbformat": 4,
 "nbformat_minor": 2
}
