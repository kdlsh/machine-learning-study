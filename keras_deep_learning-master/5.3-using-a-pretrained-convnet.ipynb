{
 "cells": [
  {
   "cell_type": "code",
   "execution_count": 1,
   "metadata": {
    "scrolled": true
   },
   "outputs": [
    {
     "name": "stderr",
     "output_type": "stream",
     "text": [
      "Using TensorFlow backend.\n"
     ]
    },
    {
     "data": {
      "text/plain": [
       "'2.3.0'"
      ]
     },
     "execution_count": 1,
     "metadata": {},
     "output_type": "execute_result"
    }
   ],
   "source": [
    "import keras\n",
    "keras.__version__"
   ]
  },
  {
   "cell_type": "code",
   "execution_count": 2,
   "metadata": {},
   "outputs": [],
   "source": [
    "import tensorflow as tf\n",
    "from keras.backend import tensorflow_backend as K\n",
    "## tf backend config\n",
    "gpu_fraction = 0.3\n",
    "config = tf.compat.v1.ConfigProto()\n",
    "config.gpu_options.allow_growth = True\n",
    "config.gpu_options.per_process_gpu_memory_fraction=gpu_fraction\n",
    "K.set_session(tf.compat.v1.Session(config=config))\n",
    "K.clear_session()"
   ]
  },
  {
   "cell_type": "code",
   "execution_count": 3,
   "metadata": {},
   "outputs": [],
   "source": [
    "from keras.backend.tensorflow_backend import set_session\n",
    "from keras.backend.tensorflow_backend import clear_session\n",
    "from keras.backend.tensorflow_backend import get_session\n",
    "import tensorflow\n",
    "\n",
    "# Reset Keras Session\n",
    "def reset_keras():\n",
    "    sess = get_session()\n",
    "    clear_session()\n",
    "    sess.close()\n",
    "    sess = get_session()\n",
    "\n",
    "    try:\n",
    "        del classifier # this is from global space - change this as you need\n",
    "    except:\n",
    "        pass\n",
    "\n",
    "    #print(gc.collect()) # if it's done something you should see a number being outputted\n",
    "\n",
    "    # use the same config as you used to create the session\n",
    "    config = tensorflow.ConfigProto()\n",
    "    config.gpu_options.per_process_gpu_memory_fraction = 0.3\n",
    "    config.gpu_options.visible_device_list = \"0\"\n",
    "    set_session(tensorflow.Session(config=config))\n",
    "\n",
    "reset_keras()"
   ]
  },
  {
   "cell_type": "markdown",
   "metadata": {},
   "source": [
    "# 사전 훈련된 컨브넷 사용하기\n",
    "\n",
    "이 노트북은 [케라스 창시자에게 배우는 딥러닝](https://tensorflow.blog/%EC%BC%80%EB%9D%BC%EC%8A%A4-%EB%94%A5%EB%9F%AC%EB%8B%9D/) 책의 5장 3절의 코드 예제입니다. 책에는 더 많은 내용과 그림이 있습니다. 이 노트북에는 소스 코드에 관련된 설명만 포함합니다.\n",
    "\n",
    "----\n",
    "\n",
    "작은 이미지 데이터셋에 딥러닝을 적용하는 일반적이고 매우 효과적인 방법은 사전 훈련된 네트워크를 사용하는 것입니다. 사전 훈련된 네트워크는 일반적으로 대규모 이미지 분류 문제를 위해 대량의 데이터셋에서 미리 훈련되어 저장된 네트워크입니다. 원본 데이터셋이 충분히 크고 일반적이라면 사전 훈련된 네트워크에 의해 학습된 특성의 계층 구조는 실제 세상에 대한 일반적인 모델로 효율적인 역할을 할 수 있습니다. 새로운 문제가 원래 작업과 완전히 다른 클래스에 대한 것이더라도 이런 특성은 많은 컴퓨터 비전 문제에 유용합니다. 예를 들어 (대부분 동물이나 생활 용품으로 이루어진) ImageNet 데이터셋에 네트워크를 훈련합니다. 그다음 이 네트워크를 이미지에서 가구 아이템을 식별하는 것 같은 다른 용도로 사용할 수 있습니다. 학습된 특성을 다른 문제에 적용할 수 있는 이런 유연성은 이전의 많은 얕은 학습 방법과 비교했을 때 딥러닝의 핵심 장점입니다. 이런 방식으로 작은 데이터셋을 가진 문제에도 딥러닝이 효율적으로 작동할 수 있습니다.\n",
    "\n",
    "여기에서는 (1.4백만 개의 레이블된 이미지와 1,000개의 클래스로 이루어진) ImageNet 데이터셋에서 훈련된 대규모 컨브넷을 사용해 보겠습니다. ImageNet 데이터셋은 다양한 종의 강아지와 고양이를 포함해 많은 동물들을 포함하고 있습니다. 그래서 강아지 vs. 고양이 분류 문제에 좋은 성능을 낼 것 같습니다.\n",
    "\n",
    "캐런 시몬연과 앤드류 지서먼이 2014년에 개발한 VGG16 구조를 사용하겠습니다. VGG16은 간단하고 ImageNet 데이터셋에 널리 사용되는 컨브넷 구조입니다. VGG16은 조금 오래되었고 최고 수준의 성능에는 못미치며 최근의 다른 모델보다는 조금 무겁습니다. 하지만 이 모델의 구조가 이전에 보았던 것과 비슷해서 새로운 개념을 도입하지 않고 이해하기 쉽기 때문에 선택했습니다. 아마 VGG가 처음 보는 모델 애칭일지 모르겠습니다. 이런 이름에는 VGG, ResNet, Inception, Inception-ResNet, Xception 등이 있습니다. 컴퓨터 비전을 위해 딥러닝을 계속 공부하다보면 이런 이름을 자주 만나게 될 것입니다.\n",
    "\n",
    "사전 훈련된 네트워크를 사용하는 두 가지 방법이 있습니다. 특성 추출과 미세 조정입니다. 이 두 가지를 모두 다루어 보겠습니다. 먼저 특성 추출부터 시작하죠."
   ]
  },
  {
   "cell_type": "markdown",
   "metadata": {},
   "source": [
    "## 특성 추출\n",
    "\n",
    "특성 추출은 사전에 학습된 네트워크의 표현을 사용해 새로운 샘플에서 흥미로운 특성을 뽑아내는 것입니다. 이런 특성을 사용하여 새로운 분류기를 처음부터 훈련합니다.\n",
    "\n",
    "앞서 보았듯이 컨브넷은 이미지 분류를 위해 두 부분으로 구성됩니다. 먼저 연속된 합성곱과 풀링 층으로 시작해서 완전 연결 분류기로 끝납니다. 첫 번째 부분을 모델의 합성곱 기반층(convolutional base)이라고 부르겠습니다. 컨브넷의 경우 특성 추출은 사전에 훈련된 네트워크의 합성곱 기반층을 선택해 새로운 데이터를 통과시키고 그 출력으로 새로운 분류기를 훈련합니다.\n",
    "\n",
    "![swapping FC classifiers](https://s3.amazonaws.com/book.keras.io/img/ch5/swapping_fc_classifier.png)\n",
    "\n",
    "왜 합성곱 층만 재사용할까요? 완전 연결 분류기도 재사용할 수 있을까요? 일반적으로 권장하지 않습니다. 합성곱 층에 의해 학습된 표현이 더 일반적이어서 재사용 가능하기 때문입니다. 컨브넷의 특성 맵은 사진에 대한 일반적인 컨셉의 존재 여부를 기록한 맵입니다. 그래서 주어진 컴퓨터 비전 문제에 상관없이 유용하게 사용할 수 있습니다. 하지만 분류기에서 학습한 표현은 모델이 훈련된 클래스 집합에 특화되어 있습니다. 분류기는 전체 사진에 어떤 클래스가 존재할 확률에 관한 정보만을 담고 있습니다. 더군다나 완전 연결 층에서 찾은 표현은 더 이상 입력 이미지에 있는 객체의 위치 정보를 가지고 있지 않습니다. 완전 연결 층들은 공간 개념을 제거하지만 합성곱의 특성 맵은 객체의 위치를 고려합니다. 객체의 위치가 중요한 문제라면 완전 연결 층에서 만든 특성은 크게 쓸모가 없습니다.\n",
    "\n",
    "특정 합성곱 층에서 추출한 표현의 일반성(그리고 재사용성)의 수준은 모델에 있는 층의 깊이에 달려 있습니다. 모델의 하위 층은 (에지, 색깔, 질감 등과 같이) 지역적이고 매우 일반적인 특성 맵을 추출합니다. 반면 상위 층은 ('강아지 눈'이나 '고양이 귀'와 같이) 좀 더 추상적인 개념을 추출합니다. 만약 새로운 데이터셋이 원본 모델이 훈련한 데이터셋과 많이 다르다면 전체 합성곱 기반층을 사용하는 것보다는 모델의 하위 층 몇 개만 특성 추출에 사용하는 것이 좋습니다.\n",
    "\n",
    "ImageNet의 클래스 집합에는 여러 종류의 강아지와 고양이를 포함하고 있습니다. 이런 경우 원본 모델의 완전 연결 층에 있는 정보를 재사용하는 것이 도움이 될 것 같습니다. 하지만 새로운 문제의 클래스가 원본 모델의 클래스 집합과 겹치지 않는 좀 더 일반적인 경우를 다루기 위해서 여기서는 완전 연결 층을 사용하지 않겠습니다."
   ]
  },
  {
   "cell_type": "markdown",
   "metadata": {},
   "source": [
    "ImageNet 데이터셋에 훈련된 VGG16 네트워크의 합성곱 기반층을 사용하여 강아지와 고양이 이미지에서 유용한 특성을 추출해 보겠습니다. 그런 다음 이 특성으로 강아지 vs. 고양이 분류기를 훈련합니다.\n",
    "\n",
    "VGG16 모델은 케라스에 패키지로 포함되어 있습니다. `keras.applications` 모듈에서 임포트할 수 있습니다. `keras.applications` 모듈에서 사용 가능한 이미지 분류 모델은 다음과 같습니다(모두 ImageNet 데이터셋에서 훈련되었습니다):\n",
    "\n",
    "* Xception\n",
    "* InceptionV3\n",
    "* ResNet50\n",
    "* VGG16\n",
    "* VGG19\n",
    "* MobileNet\n",
    "\n",
    "VGG16 모델을 만들어 보죠:"
   ]
  },
  {
   "cell_type": "code",
   "execution_count": 4,
   "metadata": {},
   "outputs": [
    {
     "name": "stdout",
     "output_type": "stream",
     "text": [
      "WARNING:tensorflow:From c:\\program files\\python37\\lib\\site-packages\\tensorflow\\python\\ops\\resource_variable_ops.py:435: colocate_with (from tensorflow.python.framework.ops) is deprecated and will be removed in a future version.\n",
      "Instructions for updating:\n",
      "Colocations handled automatically by placer.\n"
     ]
    }
   ],
   "source": [
    "from keras.applications import VGG16\n",
    "\n",
    "conv_base = VGG16(weights='imagenet',\n",
    "                  include_top=False,\n",
    "                  input_shape=(150, 150, 3))"
   ]
  },
  {
   "cell_type": "markdown",
   "metadata": {},
   "source": [
    "VGG16 함수에 세 개의 매개변수를 전달합니다:\n",
    "\n",
    "* `weights`는 모델을 초기화할 가중치 체크포인트를 지정합니다.\n",
    "* `include_top`은 네트워크의 최상위 완전 연결 분류기를 포함할지 안할지를 지정합니다. 기본값은 ImageNet의 1,000개의 클래스에 대응되는 완전 연결 분류기를 포함합니다. 별도의 (강아지와 고양이 두 개의 클래스를 구분하는) 완전 연결 층을 추가하려고 하므로 이를 포함시키지 않습니다.\n",
    "* `input_shape`은 네트워크에 주입할 이미지 텐서의 크기입니다. 이 매개변수는 선택사항입니다. 이 값을 지정하지 않으면 네트워크가 어떤 크기의 입력도 처리할 수 있습니다.\n",
    "\n",
    "다음은 VGG16 합성곱 기반층의 자세한 구조입니다. 이 구조는 앞에서 보았던 간단한 컨브넷과 비슷합니다."
   ]
  },
  {
   "cell_type": "code",
   "execution_count": 5,
   "metadata": {},
   "outputs": [
    {
     "name": "stdout",
     "output_type": "stream",
     "text": [
      "Model: \"vgg16\"\n",
      "_________________________________________________________________\n",
      "Layer (type)                 Output Shape              Param #   \n",
      "=================================================================\n",
      "input_1 (InputLayer)         (None, 150, 150, 3)       0         \n",
      "_________________________________________________________________\n",
      "block1_conv1 (Conv2D)        (None, 150, 150, 64)      1792      \n",
      "_________________________________________________________________\n",
      "block1_conv2 (Conv2D)        (None, 150, 150, 64)      36928     \n",
      "_________________________________________________________________\n",
      "block1_pool (MaxPooling2D)   (None, 75, 75, 64)        0         \n",
      "_________________________________________________________________\n",
      "block2_conv1 (Conv2D)        (None, 75, 75, 128)       73856     \n",
      "_________________________________________________________________\n",
      "block2_conv2 (Conv2D)        (None, 75, 75, 128)       147584    \n",
      "_________________________________________________________________\n",
      "block2_pool (MaxPooling2D)   (None, 37, 37, 128)       0         \n",
      "_________________________________________________________________\n",
      "block3_conv1 (Conv2D)        (None, 37, 37, 256)       295168    \n",
      "_________________________________________________________________\n",
      "block3_conv2 (Conv2D)        (None, 37, 37, 256)       590080    \n",
      "_________________________________________________________________\n",
      "block3_conv3 (Conv2D)        (None, 37, 37, 256)       590080    \n",
      "_________________________________________________________________\n",
      "block3_pool (MaxPooling2D)   (None, 18, 18, 256)       0         \n",
      "_________________________________________________________________\n",
      "block4_conv1 (Conv2D)        (None, 18, 18, 512)       1180160   \n",
      "_________________________________________________________________\n",
      "block4_conv2 (Conv2D)        (None, 18, 18, 512)       2359808   \n",
      "_________________________________________________________________\n",
      "block4_conv3 (Conv2D)        (None, 18, 18, 512)       2359808   \n",
      "_________________________________________________________________\n",
      "block4_pool (MaxPooling2D)   (None, 9, 9, 512)         0         \n",
      "_________________________________________________________________\n",
      "block5_conv1 (Conv2D)        (None, 9, 9, 512)         2359808   \n",
      "_________________________________________________________________\n",
      "block5_conv2 (Conv2D)        (None, 9, 9, 512)         2359808   \n",
      "_________________________________________________________________\n",
      "block5_conv3 (Conv2D)        (None, 9, 9, 512)         2359808   \n",
      "_________________________________________________________________\n",
      "block5_pool (MaxPooling2D)   (None, 4, 4, 512)         0         \n",
      "=================================================================\n",
      "Total params: 14,714,688\n",
      "Trainable params: 14,714,688\n",
      "Non-trainable params: 0\n",
      "_________________________________________________________________\n"
     ]
    }
   ],
   "source": [
    "conv_base.summary()"
   ]
  },
  {
   "cell_type": "markdown",
   "metadata": {},
   "source": [
    "최종 특성 맵의 크기는 `(4, 4, 512)`입니다. 이 특성 위에 완전 연결 층을 놓을 것입니다.\n",
    "이 지점에서 두 가지 방식이 가능합니다.\n",
    "\n",
    "* 새로운 데이터셋에서 합성곱 기반층을 실행하고 출력을 넘파이 배열로 디스크에 저장합니다. 그다음 이 데이터를 이 책의 1부에서 보았던 것과 비슷한 독립된 완전 연결 분류기에 입력으로 사용합니다. 합성곱 연산은 전체 과정 중에서 가장 비싼 부분입니다. 이 방식은 모든 입력 이미지에 대해 합성곱 기반층을 한 번만 실행하면 되기 때문에 빠르고 비용이 적게 듭니다. 하지만 이런 이유 때문에 이 기법에는 데이터 증식을 사용할 수 없습니다.\n",
    "* 준비한 모델(`conv_base`) 위에 `Dense` 층을 쌓아 확장합니다. 그다음 입력 데이터에서 엔드 투 엔드로 전체 모델을 실행합니다. 모델에 노출된 모든 입력 이미지가 매번 합성곱 기반층을 통과하기 때문에 데이터 증식을 사용할 수 있습니다. 하지만 이런 이유로 이 방식은 첫 번째 방식보다 훨씬 비용이 많이 듭니다.\n",
    "\n",
    "두 가지 방식을 모두 다루어 보겠습니다. 첫 번째 방식을 구현하는 코드를 살펴봅니다. `conv_base`에 데이터를 주입하고 출력을 기록합니다. 이 출력을 새로운 모델의 입력으로 사용하겠습니다.\n",
    "\n",
    "먼저 앞서 소개한 `ImageDataGenerator`를 사용해 이미지와 레이블을 넘파이 배열로 추출하겠습니다. `conv_base` 모델의 `predict` 메서드를 호출하여 이 이미지에서 특성을 추출합니다."
   ]
  },
  {
   "cell_type": "code",
   "execution_count": 6,
   "metadata": {},
   "outputs": [],
   "source": [
    "import os\n",
    "\n",
    "base_dir = './datasets/cats_and_dogs_small'\n",
    "\n",
    "train_dir = os.path.join(base_dir, 'train')\n",
    "validation_dir = os.path.join(base_dir, 'validation')\n",
    "test_dir = os.path.join(base_dir, 'test')"
   ]
  },
  {
   "cell_type": "code",
   "execution_count": 14,
   "metadata": {},
   "outputs": [
    {
     "name": "stdout",
     "output_type": "stream",
     "text": [
      "Found 2000 images belonging to 2 classes.\n",
      "Found 1000 images belonging to 2 classes.\n",
      "Found 1000 images belonging to 2 classes.\n"
     ]
    }
   ],
   "source": [
    "import numpy as np\n",
    "from keras.preprocessing.image import ImageDataGenerator\n",
    "\n",
    "datagen = ImageDataGenerator(rescale=1./255)\n",
    "batch_size = 20\n",
    "\n",
    "def extract_features(directory, sample_count):\n",
    "    features = np.zeros(shape=(sample_count, 4, 4, 512))\n",
    "    labels = np.zeros(shape=(sample_count))\n",
    "    generator = datagen.flow_from_directory(\n",
    "        directory,\n",
    "        target_size=(150, 150),\n",
    "        batch_size=batch_size,\n",
    "        class_mode='binary')\n",
    "    i = 0\n",
    "    for inputs_batch, labels_batch in generator:\n",
    "        features_batch = conv_base.predict(inputs_batch)\n",
    "        features[i * batch_size : (i + 1) * batch_size] = features_batch\n",
    "        labels[i * batch_size : (i + 1) * batch_size] = labels_batch\n",
    "        i += 1\n",
    "        if i * batch_size >= sample_count:\n",
    "            # 제너레이터는 루프 안에서 무한하게 데이터를 만들어내므로 모든 이미지를 한 번씩 처리하고 나면 중지합니다\n",
    "            break\n",
    "    return features, labels\n",
    "\n",
    "train_features, train_labels = extract_features(train_dir, 2000)\n",
    "test_features, test_labels = extract_features(test_dir, 1000)\n",
    "validation_features, validation_labels = extract_features(validation_dir, 1000)"
   ]
  },
  {
   "cell_type": "markdown",
   "metadata": {},
   "source": [
    "추출된 특성의 크기는 `(samples, 4, 4, 512)`입니다. 완전 연결 분류기에 주입하기 위해서 먼저 `(samples, 8192)` 크기로 펼칩니다:"
   ]
  },
  {
   "cell_type": "code",
   "execution_count": 7,
   "metadata": {},
   "outputs": [],
   "source": [
    "train_features = np.reshape(train_features, (2000, 4 * 4 * 512))\n",
    "validation_features = np.reshape(validation_features, (1000, 4 * 4 * 512))\n",
    "test_features = np.reshape(test_features, (1000, 4 * 4 * 512))"
   ]
  },
  {
   "cell_type": "markdown",
   "metadata": {},
   "source": [
    "그러고 나서 완전 연결 분류기를 정의하고(규제를 위해 드롭아웃을 사용합니다) 저장된 데이터와 레이블을 사용해 훈련합니다:"
   ]
  },
  {
   "cell_type": "code",
   "execution_count": 8,
   "metadata": {},
   "outputs": [
    {
     "name": "stdout",
     "output_type": "stream",
     "text": [
      "WARNING:tensorflow:From c:\\program files\\python37\\lib\\site-packages\\tensorflow\\python\\ops\\math_ops.py:3066: to_int32 (from tensorflow.python.ops.math_ops) is deprecated and will be removed in a future version.\n",
      "Instructions for updating:\n",
      "Use tf.cast instead.\n",
      "Train on 2000 samples, validate on 1000 samples\n",
      "Epoch 1/30\n",
      "2000/2000 [==============================] - 2s 769us/step - loss: 0.6006 - acc: 0.6695 - val_loss: 0.4297 - val_acc: 0.8450\n",
      "Epoch 2/30\n",
      "2000/2000 [==============================] - 1s 354us/step - loss: 0.4177 - acc: 0.8115 - val_loss: 0.3524 - val_acc: 0.8700\n",
      "Epoch 3/30\n",
      "2000/2000 [==============================] - 1s 353us/step - loss: 0.3579 - acc: 0.8410 - val_loss: 0.3176 - val_acc: 0.8780\n",
      "Epoch 4/30\n",
      "2000/2000 [==============================] - 1s 352us/step - loss: 0.3110 - acc: 0.8680 - val_loss: 0.2971 - val_acc: 0.8830\n",
      "Epoch 5/30\n",
      "2000/2000 [==============================] - 1s 353us/step - loss: 0.2847 - acc: 0.8835 - val_loss: 0.2810 - val_acc: 0.8970\n",
      "Epoch 6/30\n",
      "2000/2000 [==============================] - 1s 356us/step - loss: 0.2612 - acc: 0.8950 - val_loss: 0.2695 - val_acc: 0.8980\n",
      "Epoch 7/30\n",
      "2000/2000 [==============================] - 1s 357us/step - loss: 0.2430 - acc: 0.9065 - val_loss: 0.2622 - val_acc: 0.9010\n",
      "Epoch 8/30\n",
      "2000/2000 [==============================] - 1s 355us/step - loss: 0.2210 - acc: 0.9200 - val_loss: 0.2548 - val_acc: 0.9040\n",
      "Epoch 9/30\n",
      "2000/2000 [==============================] - 1s 355us/step - loss: 0.2020 - acc: 0.9265 - val_loss: 0.2557 - val_acc: 0.9000\n",
      "Epoch 10/30\n",
      "2000/2000 [==============================] - 1s 353us/step - loss: 0.2073 - acc: 0.9245 - val_loss: 0.2481 - val_acc: 0.9050\n",
      "Epoch 11/30\n",
      "2000/2000 [==============================] - 1s 356us/step - loss: 0.1866 - acc: 0.9340 - val_loss: 0.2434 - val_acc: 0.9070\n",
      "Epoch 12/30\n",
      "2000/2000 [==============================] - 1s 354us/step - loss: 0.1736 - acc: 0.9370 - val_loss: 0.2449 - val_acc: 0.9050\n",
      "Epoch 13/30\n",
      "2000/2000 [==============================] - 1s 352us/step - loss: 0.1737 - acc: 0.9395 - val_loss: 0.2386 - val_acc: 0.9070\n",
      "Epoch 14/30\n",
      "2000/2000 [==============================] - 1s 357us/step - loss: 0.1652 - acc: 0.9360 - val_loss: 0.2398 - val_acc: 0.9080\n",
      "Epoch 15/30\n",
      "2000/2000 [==============================] - 1s 354us/step - loss: 0.1608 - acc: 0.9440 - val_loss: 0.2436 - val_acc: 0.9000\n",
      "Epoch 16/30\n",
      "2000/2000 [==============================] - 1s 348us/step - loss: 0.1520 - acc: 0.9510 - val_loss: 0.2377 - val_acc: 0.9070\n",
      "Epoch 17/30\n",
      "2000/2000 [==============================] - 1s 350us/step - loss: 0.1402 - acc: 0.9515 - val_loss: 0.2393 - val_acc: 0.9060\n",
      "Epoch 18/30\n",
      "2000/2000 [==============================] - 1s 353us/step - loss: 0.1324 - acc: 0.9540 - val_loss: 0.2403 - val_acc: 0.9050\n",
      "Epoch 19/30\n",
      "2000/2000 [==============================] - 1s 359us/step - loss: 0.1272 - acc: 0.9600 - val_loss: 0.2324 - val_acc: 0.9080\n",
      "Epoch 20/30\n",
      "2000/2000 [==============================] - 1s 353us/step - loss: 0.1237 - acc: 0.9585 - val_loss: 0.2329 - val_acc: 0.9090\n",
      "Epoch 21/30\n",
      "2000/2000 [==============================] - 1s 350us/step - loss: 0.1173 - acc: 0.9615 - val_loss: 0.2375 - val_acc: 0.9050\n",
      "Epoch 22/30\n",
      "2000/2000 [==============================] - 1s 351us/step - loss: 0.1120 - acc: 0.9615 - val_loss: 0.2338 - val_acc: 0.9120\n",
      "Epoch 23/30\n",
      "2000/2000 [==============================] - 1s 357us/step - loss: 0.1087 - acc: 0.9710 - val_loss: 0.2368 - val_acc: 0.9060\n",
      "Epoch 24/30\n",
      "2000/2000 [==============================] - 1s 360us/step - loss: 0.1049 - acc: 0.9675 - val_loss: 0.2499 - val_acc: 0.9020\n",
      "Epoch 25/30\n",
      "2000/2000 [==============================] - 1s 355us/step - loss: 0.1042 - acc: 0.9695 - val_loss: 0.2425 - val_acc: 0.9060\n",
      "Epoch 26/30\n",
      "2000/2000 [==============================] - 1s 357us/step - loss: 0.0979 - acc: 0.9685 - val_loss: 0.2368 - val_acc: 0.9040\n",
      "Epoch 27/30\n",
      "2000/2000 [==============================] - 1s 351us/step - loss: 0.0923 - acc: 0.9755 - val_loss: 0.2355 - val_acc: 0.9040\n",
      "Epoch 28/30\n",
      "2000/2000 [==============================] - 1s 354us/step - loss: 0.0887 - acc: 0.9695 - val_loss: 0.2402 - val_acc: 0.9050\n",
      "Epoch 29/30\n",
      "2000/2000 [==============================] - 1s 360us/step - loss: 0.0874 - acc: 0.9730 - val_loss: 0.2432 - val_acc: 0.9050\n",
      "Epoch 30/30\n",
      "2000/2000 [==============================] - 1s 371us/step - loss: 0.0830 - acc: 0.9760 - val_loss: 0.2408 - val_acc: 0.9030\n"
     ]
    }
   ],
   "source": [
    "from keras import models\n",
    "from keras import layers\n",
    "from keras import optimizers\n",
    "\n",
    "model = models.Sequential()\n",
    "model.add(layers.Dense(256, activation='relu', input_dim=4 * 4 * 512))\n",
    "model.add(layers.Dropout(0.5))\n",
    "model.add(layers.Dense(1, activation='sigmoid'))\n",
    "\n",
    "model.compile(optimizer=optimizers.RMSprop(lr=2e-5),\n",
    "              loss='binary_crossentropy',\n",
    "              metrics=['acc'])\n",
    "\n",
    "history = model.fit(train_features, train_labels,\n",
    "                    epochs=30,\n",
    "                    batch_size=20,\n",
    "                    validation_data=(validation_features, validation_labels))"
   ]
  },
  {
   "cell_type": "markdown",
   "metadata": {},
   "source": [
    "두 개의 `Dense` 층만 처리하면 되기 때문에 훈련이 매우 빠릅니다. CPU를 사용하더라도 한 에포크에 걸리는 시간이 1초 미만입니다.\n",
    "\n",
    "훈련 손실과 정확도 곡선을 살펴보죠:"
   ]
  },
  {
   "cell_type": "code",
   "execution_count": 18,
   "metadata": {},
   "outputs": [],
   "source": [
    "import matplotlib.pyplot as plt"
   ]
  },
  {
   "cell_type": "code",
   "execution_count": 10,
   "metadata": {},
   "outputs": [
    {
     "data": {
      "image/png": "[encoded data removed]",
      "text/plain": [
       "<Figure size 432x288 with 1 Axes>"
      ]
     },
     "metadata": {
      "needs_background": "light"
     },
     "output_type": "display_data"
    },
    {
     "data": {
      "image/png": "[encoded data removed]",
      "text/plain": [
       "<Figure size 432x288 with 1 Axes>"
      ]
     },
     "metadata": {
      "needs_background": "light"
     },
     "output_type": "display_data"
    }
   ],
   "source": [
    "acc = history.history['acc']\n",
    "val_acc = history.history['val_acc']\n",
    "loss = history.history['loss']\n",
    "val_loss = history.history['val_loss']\n",
    "\n",
    "epochs = range(len(acc))\n",
    "\n",
    "plt.plot(epochs, acc, 'bo', label='Training acc')\n",
    "plt.plot(epochs, val_acc, 'b', label='Validation acc')\n",
    "plt.title('Training and validation accuracy')\n",
    "plt.legend()\n",
    "\n",
    "plt.figure()\n",
    "\n",
    "plt.plot(epochs, loss, 'bo', label='Training loss')\n",
    "plt.plot(epochs, val_loss, 'b', label='Validation loss')\n",
    "plt.title('Training and validation loss')\n",
    "plt.legend()\n",
    "\n",
    "plt.show()"
   ]
  },
  {
   "cell_type": "markdown",
   "metadata": {},
   "source": [
    "약 90%의 검증 정확도에 도달했습니다. 이전 절에서 처음부터 훈련시킨 작은 모델에서 얻은 것보다 훨씬 좋습니다. 하지만 이 그래프는 많은 비율로 드롭아웃을 사용했음에도 불구하고 훈련이 시작하면서 거의 바로 과대적합되고 있다는 것을 보여줍니다. 작은 이미지 데이터셋에서는 과대적합을 막기 위해 필수적인 데이터 증식을 사용하지 않았기 때문입니다.\n",
    "\n",
    "이제 특성 추출을 위해 두 번째로 언급한 방법을 살펴보겠습니다. 이 방법은 훨씬 느리고 비용이 많이 들지만 훈련하는 동안 데이터 증식 기법을 사용할 수 있습니다. `conv_base` 모델을 확장하고 입력 데이터를 사용해 엔드 투 엔드로 실행합니다.\n",
    "\n",
    "이 기법은 연산 비용이 크기 때문에 GPU를 사용할 수 있을 때 시도해야 합니다. CPU에서는 적용하기 매우 힘듭니다. GPU를 사용할 수 없다면 첫 번째 방법을 사용하세요.\n",
    "\n",
    "모델은 층과 동일하게 작동하므로 층을 추가하듯이 `Sequential` 모델에 (`conv_base` 같은) 다른 모델을 추가할 수 있습니다:"
   ]
  },
  {
   "cell_type": "code",
   "execution_count": 7,
   "metadata": {},
   "outputs": [],
   "source": [
    "from keras import models\n",
    "from keras import layers\n",
    "\n",
    "model = models.Sequential()\n",
    "model.add(conv_base)\n",
    "model.add(layers.Flatten())\n",
    "model.add(layers.Dense(256, activation='relu'))\n",
    "model.add(layers.Dense(1, activation='sigmoid'))"
   ]
  },
  {
   "cell_type": "markdown",
   "metadata": {},
   "source": [
    "이 모델의 구조는 다음과 같습니다:"
   ]
  },
  {
   "cell_type": "code",
   "execution_count": 8,
   "metadata": {},
   "outputs": [
    {
     "name": "stdout",
     "output_type": "stream",
     "text": [
      "Model: \"sequential_1\"\n",
      "_________________________________________________________________\n",
      "Layer (type)                 Output Shape              Param #   \n",
      "=================================================================\n",
      "vgg16 (Model)                (None, 4, 4, 512)         14714688  \n",
      "_________________________________________________________________\n",
      "flatten_1 (Flatten)          (None, 8192)              0         \n",
      "_________________________________________________________________\n",
      "dense_1 (Dense)              (None, 256)               2097408   \n",
      "_________________________________________________________________\n",
      "dense_2 (Dense)              (None, 1)                 257       \n",
      "=================================================================\n",
      "Total params: 16,812,353\n",
      "Trainable params: 16,812,353\n",
      "Non-trainable params: 0\n",
      "_________________________________________________________________\n"
     ]
    }
   ],
   "source": [
    "model.summary()"
   ]
  },
  {
   "cell_type": "markdown",
   "metadata": {},
   "source": [
    "여기서 볼 수 있듯이 VGG16의 합성곱 기반층은 14,714,688개의 매우 많은 파라미터를 가지고 있습니다. 합성곱 기반층 위에 추가한 분류기는 2백만 개의 파라미터를 가집니다.\n",
    "\n",
    "모델을 컴파일하고 훈련하기 전에 합성곱 기반층을 동결하는 것이 아주 중요합니다. 하나 이상의 층을 동결한다는 것은 훈련하는 동안 가중치가 업데이트되지 않도록 막는다는 뜻입니다. 이렇게 하지 않으면 합성곱 기반층에 의해 사전에 학습된 표현이 훈련하는 동안 수정될 것입니다. 맨 위의 `Dense` 층은 랜덤하게 초기화되었기 때문에 매우 큰 가중치 업데이트 값이 네트워크에 전파될 것입니다. 이는 사전에 학습된 표현을 크게 훼손하게 됩니다.\n",
    "\n",
    "케라스에서는 `trainable` 속성을 `False`로 설정하여 네트워크를 동결할 수 있습니다:"
   ]
  },
  {
   "cell_type": "code",
   "execution_count": 9,
   "metadata": {},
   "outputs": [
    {
     "name": "stdout",
     "output_type": "stream",
     "text": [
      "conv_base를 동결하기 전 훈련되는 가중치의 수: 30\n"
     ]
    }
   ],
   "source": [
    "print('conv_base를 동결하기 전 훈련되는 가중치의 수:', \n",
    "      len(model.trainable_weights))"
   ]
  },
  {
   "cell_type": "code",
   "execution_count": 10,
   "metadata": {},
   "outputs": [],
   "source": [
    "conv_base.trainable = False"
   ]
  },
  {
   "cell_type": "code",
   "execution_count": 11,
   "metadata": {},
   "outputs": [
    {
     "name": "stdout",
     "output_type": "stream",
     "text": [
      "conv_base를 동결한 후 훈련되는 가중치의 수: 4\n"
     ]
    }
   ],
   "source": [
    "print('conv_base를 동결한 후 훈련되는 가중치의 수:', \n",
    "      len(model.trainable_weights))"
   ]
  },
  {
   "cell_type": "markdown",
   "metadata": {},
   "source": [
    "이렇게 설정하면 추가한 두 개의 `Dense` 층의 가중치만 훈련될 것입니다. 층마다 두 개씩(가중치 행렬과 편향 벡터) 총 네 개의 텐서가 훈련됩니다. 변경 사항을 적용하려면 먼저 모델을 컴파일해야 합니다. 컴파일 단계 후에 `trainable` 속성을 변경하면 반드시 모델을 다시 컴파일해야 합니다. 그렇지 않으면 변경 사항이 적용되지 않습니다.\n",
    "\n",
    "이제 앞의 예제에서 사용했던 데이터 증식을 사용하여 모델 훈련을 시작할 수 있습니다:"
   ]
  },
  {
   "cell_type": "code",
   "execution_count": 12,
   "metadata": {},
   "outputs": [
    {
     "name": "stdout",
     "output_type": "stream",
     "text": [
      "Found 2000 images belonging to 2 classes.\n",
      "Found 1000 images belonging to 2 classes.\n"
     ]
    }
   ],
   "source": [
    "from keras.preprocessing.image import ImageDataGenerator\n",
    "from keras import optimizers\n",
    "\n",
    "train_datagen = ImageDataGenerator(\n",
    "      rescale=1./255,\n",
    "      rotation_range=20,\n",
    "      width_shift_range=0.1,\n",
    "      height_shift_range=0.1,\n",
    "      shear_range=0.1,\n",
    "      zoom_range=0.1,\n",
    "      horizontal_flip=True,\n",
    "      fill_mode='nearest')\n",
    "\n",
    "# 검증 데이터는 증식되어서는 안 됩니다!\n",
    "test_datagen = ImageDataGenerator(rescale=1./255)\n",
    "\n",
    "train_generator = train_datagen.flow_from_directory(\n",
    "        # 타깃 디렉터리\n",
    "        train_dir,\n",
    "        # 모든 이미지의 크기를 150 × 150로 변경합니다\n",
    "        target_size=(150, 150),\n",
    "        batch_size=20,\n",
    "        # binary_crossentropy 손실을 사용하므로 이진 레이블이 필요합니다\n",
    "        class_mode='binary')\n",
    "\n",
    "validation_generator = test_datagen.flow_from_directory(\n",
    "        validation_dir,\n",
    "        target_size=(150, 150),\n",
    "        batch_size=20,\n",
    "        class_mode='binary')\n",
    "\n",
    "model.compile(loss='binary_crossentropy',\n",
    "              optimizer=optimizers.RMSprop(lr=2e-5),\n",
    "              metrics=['acc'])"
   ]
  },
  {
   "cell_type": "code",
   "execution_count": 16,
   "metadata": {},
   "outputs": [
    {
     "name": "stdout",
     "output_type": "stream",
     "text": [
      "Found 2000 images belonging to 2 classes.\n",
      "Found 1000 images belonging to 2 classes.\n",
      "Epoch 1/30\n",
      " - 22s - loss: 0.5429 - acc: 0.7335 - val_loss: 0.3497 - val_acc: 0.8430\n",
      "Epoch 2/30\n",
      " - 22s - loss: 0.4096 - acc: 0.8230 - val_loss: 0.2696 - val_acc: 0.8670\n",
      "Epoch 3/30\n",
      " - 22s - loss: 0.3554 - acc: 0.8525 - val_loss: 0.2376 - val_acc: 0.8840\n",
      "Epoch 4/30\n",
      " - 22s - loss: 0.3268 - acc: 0.8665 - val_loss: 0.3437 - val_acc: 0.8820\n",
      "Epoch 5/30\n",
      " - 22s - loss: 0.3029 - acc: 0.8765 - val_loss: 0.1067 - val_acc: 0.8860\n",
      "Epoch 6/30\n",
      " - 22s - loss: 0.2896 - acc: 0.8805 - val_loss: 0.4512 - val_acc: 0.8900\n",
      "Epoch 7/30\n",
      " - 22s - loss: 0.2769 - acc: 0.8875 - val_loss: 0.1907 - val_acc: 0.8980\n",
      "Epoch 8/30\n",
      " - 22s - loss: 0.2690 - acc: 0.8895 - val_loss: 0.2969 - val_acc: 0.8930\n",
      "Epoch 9/30\n",
      " - 22s - loss: 0.2529 - acc: 0.9040 - val_loss: 0.2305 - val_acc: 0.8950\n",
      "Epoch 10/30\n",
      " - 22s - loss: 0.2408 - acc: 0.9065 - val_loss: 0.3681 - val_acc: 0.8970\n",
      "Epoch 11/30\n",
      " - 22s - loss: 0.2454 - acc: 0.9010 - val_loss: 0.2708 - val_acc: 0.9050\n",
      "Epoch 12/30\n",
      " - 22s - loss: 0.2417 - acc: 0.9075 - val_loss: 0.3342 - val_acc: 0.8910\n",
      "Epoch 13/30\n",
      " - 23s - loss: 0.2332 - acc: 0.9060 - val_loss: 0.1223 - val_acc: 0.9010\n",
      "Epoch 14/30\n",
      " - 23s - loss: 0.2324 - acc: 0.9090 - val_loss: 0.3835 - val_acc: 0.9020\n",
      "Epoch 15/30\n",
      " - 23s - loss: 0.2171 - acc: 0.9160 - val_loss: 0.1388 - val_acc: 0.9050\n",
      "Epoch 16/30\n",
      " - 22s - loss: 0.2188 - acc: 0.9165 - val_loss: 0.2595 - val_acc: 0.9020\n",
      "Epoch 17/30\n",
      " - 22s - loss: 0.2178 - acc: 0.9160 - val_loss: 0.4186 - val_acc: 0.9060\n",
      "Epoch 18/30\n",
      " - 22s - loss: 0.2085 - acc: 0.9290 - val_loss: 0.1078 - val_acc: 0.8910\n",
      "Epoch 19/30\n",
      " - 22s - loss: 0.2183 - acc: 0.9080 - val_loss: 0.2966 - val_acc: 0.9030\n",
      "Epoch 20/30\n",
      " - 22s - loss: 0.2043 - acc: 0.9175 - val_loss: 0.1094 - val_acc: 0.9040\n",
      "Epoch 21/30\n",
      " - 22s - loss: 0.2006 - acc: 0.9205 - val_loss: 0.0598 - val_acc: 0.9040\n",
      "Epoch 22/30\n",
      " - 22s - loss: 0.2049 - acc: 0.9190 - val_loss: 0.0596 - val_acc: 0.9080\n",
      "Epoch 23/30\n",
      " - 22s - loss: 0.2026 - acc: 0.9225 - val_loss: 0.2381 - val_acc: 0.9050\n",
      "Epoch 24/30\n",
      " - 22s - loss: 0.1974 - acc: 0.9215 - val_loss: 0.2611 - val_acc: 0.9030\n",
      "Epoch 25/30\n",
      " - 22s - loss: 0.1977 - acc: 0.9225 - val_loss: 0.1348 - val_acc: 0.9040\n",
      "Epoch 26/30\n",
      " - 22s - loss: 0.1815 - acc: 0.9305 - val_loss: 0.2312 - val_acc: 0.9060\n",
      "Epoch 27/30\n",
      " - 22s - loss: 0.1887 - acc: 0.9265 - val_loss: 0.1092 - val_acc: 0.9060\n",
      "Epoch 28/30\n",
      " - 22s - loss: 0.1874 - acc: 0.9265 - val_loss: 0.2204 - val_acc: 0.9030\n",
      "Epoch 29/30\n",
      " - 22s - loss: 0.1938 - acc: 0.9240 - val_loss: 0.2108 - val_acc: 0.9050\n",
      "Epoch 30/30\n",
      " - 22s - loss: 0.1785 - acc: 0.9305 - val_loss: 0.3390 - val_acc: 0.9080\n"
     ]
    }
   ],
   "source": [
    "history = model.fit_generator(\n",
    "      train_generator,\n",
    "      steps_per_epoch=100,\n",
    "      epochs=30,\n",
    "      validation_data=validation_generator,\n",
    "      validation_steps=50,\n",
    "      verbose=2)"
   ]
  },
  {
   "cell_type": "code",
   "execution_count": 17,
   "metadata": {},
   "outputs": [],
   "source": [
    "model.save('cats_and_dogs_small_3.h5')"
   ]
  },
  {
   "cell_type": "markdown",
   "metadata": {},
   "source": [
    "결과 그래프를 다시 그려 봅시다:"
   ]
  },
  {
   "cell_type": "code",
   "execution_count": 18,
   "metadata": {},
   "outputs": [
    {
     "data": {
      "image/png": "[encoded data removed]",
      "text/plain": [
       "<Figure size 432x288 with 1 Axes>"
      ]
     },
     "metadata": {
      "needs_background": "light"
     },
     "output_type": "display_data"
    },
    {
     "data": {
      "image/png": "[encoded data removed]",
      "text/plain": [
       "<Figure size 432x288 with 1 Axes>"
      ]
     },
     "metadata": {
      "needs_background": "light"
     },
     "output_type": "display_data"
    }
   ],
   "source": [
    "acc = history.history['acc']\n",
    "val_acc = history.history['val_acc']\n",
    "loss = history.history['loss']\n",
    "val_loss = history.history['val_loss']\n",
    "\n",
    "epochs = range(len(acc))\n",
    "\n",
    "plt.plot(epochs, acc, 'bo', label='Training acc')\n",
    "plt.plot(epochs, val_acc, 'b', label='Validation acc')\n",
    "plt.title('Training and validation accuracy')\n",
    "plt.legend()\n",
    "\n",
    "plt.figure()\n",
    "\n",
    "plt.plot(epochs, loss, 'bo', label='Training loss')\n",
    "plt.plot(epochs, val_loss, 'b', label='Validation loss')\n",
    "plt.title('Training and validation loss')\n",
    "plt.legend()\n",
    "\n",
    "plt.show()"
   ]
  },
  {
   "cell_type": "markdown",
   "metadata": {},
   "source": [
    "여기서 볼 수 있듯이 검증 정확도가 이전과 비슷하지만 처음부터 훈련시킨 소규모 컨브넷보다 과대적합이 줄었습니다."
   ]
  },
  {
   "cell_type": "markdown",
   "metadata": {},
   "source": [
    "## 미세 조정\n",
    "\n",
    "모델을 재사용하는 데 널리 사용되는 또 하나의 기법은 특성 추출을 보완하는 미세 조정입니다. 미세 조정은 특성 추출에 사용했던 동결 모델의 상위 층 몇 개를 동결에서 해제하고 모델에 새로 추가한 층(여기서는 완전 연결 분류기)과 함께 훈련하는 것입니다. 주어진 문제에 조금 더 밀접하게 재사용 모델의 표현을 일부 조정하기 때문에 미세 조정이라고 부릅니다.\n",
    "\n",
    "![fine-tuning VGG16](https://s3.amazonaws.com/book.keras.io/img/ch5/vgg16_fine_tuning.png)"
   ]
  },
  {
   "cell_type": "markdown",
   "metadata": {},
   "source": [
    "앞서 랜덤하게 초기화된 상단 분류기를 훈련하기 위해 VGG16의 합성곱 기반층을 동결해야 한다고 말했습니다. 같은 이유로 맨 위에 있는 분류기가 훈련된 후에 합성곱 기반의 상위 층을 미세 조정할 수 있습니다. 분류기가 미리 훈련되지 않으면 훈련되는 동안 너무 큰 오차 신호가 네트워크에 전파됩니다. 이는 미세 조정될 층들이 사전에 학습한 표현들을 망가뜨리게 될 것입니다. 네트워크를 미세 조정하는 단계는 다음과 같습니다:\n",
    "\n",
    "1. 사전에 훈련된 기반 네트워크 위에 새로운 네트워크를 추가합니다.\n",
    "2. 기반 네트워크를 동결합니다.\n",
    "3. 새로 추가한 네트워크를 훈련합니다.\n",
    "4. 기반 네트워크에서 일부 층의 동결을 해제합니다.\n",
    "5. 동결을 해제한 층과 새로 추가한 층을 함께 훈련합니다.\n",
    "\n",
    "처음 세 단계는 특성 추출을 할 때 이미 완료했습니다. 네 번째 단계를 진행해 보죠. `conv_base`의 동결을 해제하고 개별 층을 동결하겠습니다.\n",
    "\n",
    "기억을 되살리기 위해 합성곱 기반층의 구조를 다시 확인해 보겠습니다:"
   ]
  },
  {
   "cell_type": "code",
   "execution_count": 13,
   "metadata": {},
   "outputs": [
    {
     "name": "stdout",
     "output_type": "stream",
     "text": [
      "Model: \"vgg16\"\n",
      "_________________________________________________________________\n",
      "Layer (type)                 Output Shape              Param #   \n",
      "=================================================================\n",
      "input_1 (InputLayer)         (None, 150, 150, 3)       0         \n",
      "_________________________________________________________________\n",
      "block1_conv1 (Conv2D)        (None, 150, 150, 64)      1792      \n",
      "_________________________________________________________________\n",
      "block1_conv2 (Conv2D)        (None, 150, 150, 64)      36928     \n",
      "_________________________________________________________________\n",
      "block1_pool (MaxPooling2D)   (None, 75, 75, 64)        0         \n",
      "_________________________________________________________________\n",
      "block2_conv1 (Conv2D)        (None, 75, 75, 128)       73856     \n",
      "_________________________________________________________________\n",
      "block2_conv2 (Conv2D)        (None, 75, 75, 128)       147584    \n",
      "_________________________________________________________________\n",
      "block2_pool (MaxPooling2D)   (None, 37, 37, 128)       0         \n",
      "_________________________________________________________________\n",
      "block3_conv1 (Conv2D)        (None, 37, 37, 256)       295168    \n",
      "_________________________________________________________________\n",
      "block3_conv2 (Conv2D)        (None, 37, 37, 256)       590080    \n",
      "_________________________________________________________________\n",
      "block3_conv3 (Conv2D)        (None, 37, 37, 256)       590080    \n",
      "_________________________________________________________________\n",
      "block3_pool (MaxPooling2D)   (None, 18, 18, 256)       0         \n",
      "_________________________________________________________________\n",
      "block4_conv1 (Conv2D)        (None, 18, 18, 512)       1180160   \n",
      "_________________________________________________________________\n",
      "block4_conv2 (Conv2D)        (None, 18, 18, 512)       2359808   \n",
      "_________________________________________________________________\n",
      "block4_conv3 (Conv2D)        (None, 18, 18, 512)       2359808   \n",
      "_________________________________________________________________\n",
      "block4_pool (MaxPooling2D)   (None, 9, 9, 512)         0         \n",
      "_________________________________________________________________\n",
      "block5_conv1 (Conv2D)        (None, 9, 9, 512)         2359808   \n",
      "_________________________________________________________________\n",
      "block5_conv2 (Conv2D)        (None, 9, 9, 512)         2359808   \n",
      "_________________________________________________________________\n",
      "block5_conv3 (Conv2D)        (None, 9, 9, 512)         2359808   \n",
      "_________________________________________________________________\n",
      "block5_pool (MaxPooling2D)   (None, 4, 4, 512)         0         \n",
      "=================================================================\n",
      "Total params: 14,714,688\n",
      "Trainable params: 0\n",
      "Non-trainable params: 14,714,688\n",
      "_________________________________________________________________\n"
     ]
    }
   ],
   "source": [
    "conv_base.summary()"
   ]
  },
  {
   "cell_type": "markdown",
   "metadata": {},
   "source": [
    "마지막 세 개의 합성곱 층을 미세 조정하겠습니다. 즉, `block4_pool`까지 모든 층은 동결되고 `block5_conv1`, `block5_conv2`, `block5_conv3` 층은 학습 대상이 됩니다.\n",
    "\n",
    "왜 더 많은 층을 미세 조정하지 않을까요? 왜 전체 합성곱 기반층을 미세 조정하지 않을까요? 그렇게 할 수도 있지만 다음 사항을 고려해야 합니다:\n",
    "\n",
    "* 합성곱 기반층에 있는 하위 층들은 좀 더 일반적이고 재사용 가능한 특성들을 인코딩합니다. 반면 상위 층은 좀 더 특화된 특성을 인코딩합니다. 새로운 문제에 재활용하도록 수정이 필요한 것은 구체적인 특성이므로 이들을 미세 조정하는 것이 유리합니다. 하위 층으로 갈수록 미세 조정에 대한 효과가 감소합니다.\n",
    "* 훈련해야 할 파라미터가 많을수록 과대적합의 위험이 커집니다. 합성곱 기반층은 1천 5백만 개의 파라미터를 가지고 있습니다. 작은 데이터셋으로 전부 훈련하려고 하면 매우 위험합니다.\n",
    "\n",
    "그러므로 이런 상황에서는 합성곱 기반층에서 최상위 두 세개의 층만 미세 조정하는 것이 좋습니다.\n",
    "\n",
    "앞선 예제 코드에 이어서 미세 조정을 설정해보죠:"
   ]
  },
  {
   "cell_type": "code",
   "execution_count": 14,
   "metadata": {},
   "outputs": [],
   "source": [
    "conv_base.trainable = True\n",
    "\n",
    "set_trainable = False\n",
    "for layer in conv_base.layers:\n",
    "    if layer.name == 'block5_conv1':\n",
    "        set_trainable = True\n",
    "    if set_trainable:\n",
    "        layer.trainable = True\n",
    "    else:\n",
    "        layer.trainable = False"
   ]
  },
  {
   "cell_type": "markdown",
   "metadata": {},
   "source": [
    "이제 네트워크의 미세 조정을 시작하겠습니다. 학습률을 낮춘 RMSProp 옵티마이저를 사용합니다. 학습률을 낮추는 이유는 미세 조정하는 세 개의 층에서 학습된 표현을 조금씩 수정하기 위해서입니다. 변경량이 너무 크면 학습된 표현에 나쁜 영향을 끼칠 수 있습니다.\n",
    "\n",
    "미세 조정을 진행해 보죠:"
   ]
  },
  {
   "cell_type": "code",
   "execution_count": 15,
   "metadata": {},
   "outputs": [
    {
     "name": "stdout",
     "output_type": "stream",
     "text": [
      "WARNING:tensorflow:From c:\\program files\\python37\\lib\\site-packages\\tensorflow\\python\\ops\\math_ops.py:3066: to_int32 (from tensorflow.python.ops.math_ops) is deprecated and will be removed in a future version.\n",
      "Instructions for updating:\n",
      "Use tf.cast instead.\n",
      "Epoch 1/100\n",
      "100/100 [==============================] - 31s 310ms/step - loss: 0.4755 - acc: 0.7845 - val_loss: 0.2526 - val_acc: 0.8840\n",
      "Epoch 2/100\n",
      "100/100 [==============================] - 29s 289ms/step - loss: 0.2914 - acc: 0.8700 - val_loss: 0.2671 - val_acc: 0.9130\n",
      "Epoch 3/100\n",
      "100/100 [==============================] - 29s 287ms/step - loss: 0.2376 - acc: 0.9000 - val_loss: 0.1590 - val_acc: 0.9020\n",
      "Epoch 4/100\n",
      "100/100 [==============================] - 29s 289ms/step - loss: 0.2069 - acc: 0.9160 - val_loss: 0.1056 - val_acc: 0.9030\n",
      "Epoch 5/100\n",
      "100/100 [==============================] - 27s 274ms/step - loss: 0.1824 - acc: 0.9280 - val_loss: 0.3800 - val_acc: 0.8830\n",
      "Epoch 6/100\n",
      "100/100 [==============================] - 29s 289ms/step - loss: 0.1742 - acc: 0.9335 - val_loss: 0.2692 - val_acc: 0.9280\n",
      "Epoch 7/100\n",
      "100/100 [==============================] - 29s 291ms/step - loss: 0.1564 - acc: 0.9370 - val_loss: 0.2808 - val_acc: 0.9260\n",
      "Epoch 8/100\n",
      "100/100 [==============================] - 29s 290ms/step - loss: 0.1367 - acc: 0.9520 - val_loss: 0.1634 - val_acc: 0.9280\n",
      "Epoch 9/100\n",
      "100/100 [==============================] - 29s 291ms/step - loss: 0.1246 - acc: 0.9535 - val_loss: 0.2286 - val_acc: 0.9340\n",
      "Epoch 10/100\n",
      "100/100 [==============================] - 28s 276ms/step - loss: 0.1165 - acc: 0.9610 - val_loss: 0.1759 - val_acc: 0.9230\n",
      "Epoch 11/100\n",
      "100/100 [==============================] - 29s 291ms/step - loss: 0.1109 - acc: 0.9595 - val_loss: 0.4975 - val_acc: 0.9040\n",
      "Epoch 12/100\n",
      "100/100 [==============================] - 29s 290ms/step - loss: 0.0987 - acc: 0.9605 - val_loss: 0.1021 - val_acc: 0.9330\n",
      "Epoch 13/100\n",
      "100/100 [==============================] - 29s 288ms/step - loss: 0.0921 - acc: 0.9555 - val_loss: 0.0075 - val_acc: 0.9220\n",
      "Epoch 14/100\n",
      "100/100 [==============================] - 29s 290ms/step - loss: 0.0835 - acc: 0.9710 - val_loss: 0.1017 - val_acc: 0.9300\n",
      "Epoch 15/100\n",
      "100/100 [==============================] - 29s 291ms/step - loss: 0.0785 - acc: 0.9735 - val_loss: 0.2430 - val_acc: 0.9340\n",
      "Epoch 16/100\n",
      "100/100 [==============================] - 29s 291ms/step - loss: 0.0703 - acc: 0.9780 - val_loss: 0.6463 - val_acc: 0.9270\n",
      "Epoch 17/100\n",
      "100/100 [==============================] - 27s 275ms/step - loss: 0.0664 - acc: 0.9740 - val_loss: 0.1901 - val_acc: 0.9330\n",
      "Epoch 18/100\n",
      "100/100 [==============================] - 29s 292ms/step - loss: 0.0532 - acc: 0.9810 - val_loss: 0.5801 - val_acc: 0.9240\n",
      "Epoch 19/100\n",
      "100/100 [==============================] - 29s 289ms/step - loss: 0.0536 - acc: 0.9800 - val_loss: 0.5610 - val_acc: 0.9350\n",
      "Epoch 20/100\n",
      "100/100 [==============================] - 29s 291ms/step - loss: 0.0543 - acc: 0.9820 - val_loss: 0.0666 - val_acc: 0.9260\n",
      "Epoch 21/100\n",
      "100/100 [==============================] - 29s 289ms/step - loss: 0.0474 - acc: 0.9840 - val_loss: 0.5487 - val_acc: 0.9360\n",
      "Epoch 22/100\n",
      "100/100 [==============================] - 29s 290ms/step - loss: 0.0427 - acc: 0.9880 - val_loss: 0.0995 - val_acc: 0.9240\n",
      "Epoch 23/100\n",
      "100/100 [==============================] - 29s 289ms/step - loss: 0.0424 - acc: 0.9825 - val_loss: 0.4304 - val_acc: 0.9290\n",
      "Epoch 24/100\n",
      "100/100 [==============================] - 29s 289ms/step - loss: 0.0357 - acc: 0.9855 - val_loss: 0.1790 - val_acc: 0.9280\n",
      "Epoch 25/100\n",
      "100/100 [==============================] - 29s 292ms/step - loss: 0.0238 - acc: 0.9925 - val_loss: 0.1858 - val_acc: 0.9320\n",
      "Epoch 26/100\n",
      "100/100 [==============================] - 29s 289ms/step - loss: 0.0356 - acc: 0.9860 - val_loss: 0.0382 - val_acc: 0.9340\n",
      "Epoch 27/100\n",
      "100/100 [==============================] - 29s 291ms/step - loss: 0.0326 - acc: 0.9895 - val_loss: 0.0756 - val_acc: 0.9290\n",
      "Epoch 28/100\n",
      "100/100 [==============================] - 29s 290ms/step - loss: 0.0283 - acc: 0.9890 - val_loss: 0.0095 - val_acc: 0.9350\n",
      "Epoch 29/100\n",
      "100/100 [==============================] - 29s 290ms/step - loss: 0.0280 - acc: 0.9905 - val_loss: 0.2367 - val_acc: 0.9340\n",
      "Epoch 30/100\n",
      "100/100 [==============================] - 28s 276ms/step - loss: 0.0236 - acc: 0.9935 - val_loss: 0.3762 - val_acc: 0.9350\n",
      "Epoch 31/100\n",
      "100/100 [==============================] - 29s 288ms/step - loss: 0.0219 - acc: 0.9930 - val_loss: 0.0263 - val_acc: 0.9320\n",
      "Epoch 32/100\n",
      "100/100 [==============================] - 29s 291ms/step - loss: 0.0192 - acc: 0.9930 - val_loss: 0.8276 - val_acc: 0.9340\n",
      "Epoch 33/100\n",
      "100/100 [==============================] - 29s 291ms/step - loss: 0.0194 - acc: 0.9920 - val_loss: 0.0302 - val_acc: 0.9310\n",
      "Epoch 34/100\n",
      "100/100 [==============================] - 28s 277ms/step - loss: 0.0241 - acc: 0.9925 - val_loss: 0.1743 - val_acc: 0.9310\n",
      "Epoch 35/100\n",
      "100/100 [==============================] - 27s 274ms/step - loss: 0.0129 - acc: 0.9960 - val_loss: 2.9210e-04 - val_acc: 0.9310\n",
      "Epoch 36/100\n",
      "100/100 [==============================] - 29s 292ms/step - loss: 0.0137 - acc: 0.9965 - val_loss: 0.7548 - val_acc: 0.9290\n",
      "Epoch 37/100\n",
      "100/100 [==============================] - 29s 291ms/step - loss: 0.0152 - acc: 0.9945 - val_loss: 0.0035 - val_acc: 0.9230\n",
      "Epoch 38/100\n",
      "100/100 [==============================] - 27s 274ms/step - loss: 0.0178 - acc: 0.9945 - val_loss: 0.0313 - val_acc: 0.9320\n",
      "Epoch 39/100\n",
      "100/100 [==============================] - 27s 274ms/step - loss: 0.0140 - acc: 0.9965 - val_loss: 0.0079 - val_acc: 0.9340\n",
      "Epoch 40/100\n",
      "100/100 [==============================] - 26s 256ms/step - loss: 0.0133 - acc: 0.9965 - val_loss: 0.3228 - val_acc: 0.9330\n",
      "Epoch 41/100\n",
      "100/100 [==============================] - 25s 248ms/step - loss: 0.0123 - acc: 0.9970 - val_loss: 0.0636 - val_acc: 0.9370\n",
      "Epoch 42/100\n",
      "100/100 [==============================] - 25s 248ms/step - loss: 0.0082 - acc: 0.9970 - val_loss: 0.0044 - val_acc: 0.9410\n",
      "Epoch 43/100\n",
      "100/100 [==============================] - 25s 248ms/step - loss: 0.0136 - acc: 0.9955 - val_loss: 0.3781 - val_acc: 0.9410\n",
      "Epoch 44/100\n",
      "100/100 [==============================] - 25s 248ms/step - loss: 0.0123 - acc: 0.9950 - val_loss: 0.3472 - val_acc: 0.9300\n",
      "Epoch 45/100\n",
      "100/100 [==============================] - 25s 248ms/step - loss: 0.0072 - acc: 0.9980 - val_loss: 0.0109 - val_acc: 0.9390\n",
      "Epoch 46/100\n",
      "100/100 [==============================] - 25s 248ms/step - loss: 0.0147 - acc: 0.9955 - val_loss: 0.3520 - val_acc: 0.9350\n",
      "Epoch 47/100\n",
      "100/100 [==============================] - 25s 250ms/step - loss: 0.0112 - acc: 0.9975 - val_loss: 0.9191 - val_acc: 0.9410\n",
      "Epoch 48/100\n",
      "100/100 [==============================] - 25s 248ms/step - loss: 0.0136 - acc: 0.9965 - val_loss: 0.0156 - val_acc: 0.9110\n",
      "Epoch 49/100\n",
      "100/100 [==============================] - 25s 248ms/step - loss: 0.0128 - acc: 0.9940 - val_loss: 0.2829 - val_acc: 0.9350\n",
      "Epoch 50/100\n",
      "100/100 [==============================] - 25s 248ms/step - loss: 0.0082 - acc: 0.9975 - val_loss: 0.1769 - val_acc: 0.9370\n",
      "Epoch 51/100\n",
      "100/100 [==============================] - 25s 248ms/step - loss: 0.0076 - acc: 0.9965 - val_loss: 0.9303 - val_acc: 0.9230\n",
      "Epoch 52/100\n",
      "100/100 [==============================] - 25s 248ms/step - loss: 0.0083 - acc: 0.9975 - val_loss: 0.0018 - val_acc: 0.9380\n",
      "Epoch 53/100\n",
      "100/100 [==============================] - 25s 248ms/step - loss: 0.0100 - acc: 0.9955 - val_loss: 0.0298 - val_acc: 0.9250\n",
      "Epoch 54/100\n",
      "100/100 [==============================] - 25s 248ms/step - loss: 0.0087 - acc: 0.9960 - val_loss: 0.2778 - val_acc: 0.9320\n",
      "Epoch 55/100\n",
      "100/100 [==============================] - 25s 248ms/step - loss: 0.0061 - acc: 0.9980 - val_loss: 0.3596 - val_acc: 0.9370\n",
      "Epoch 56/100\n",
      "100/100 [==============================] - 25s 248ms/step - loss: 0.0075 - acc: 0.9975 - val_loss: 0.1554 - val_acc: 0.9270\n",
      "Epoch 57/100\n",
      "100/100 [==============================] - 25s 248ms/step - loss: 0.0155 - acc: 0.9955 - val_loss: 0.3151 - val_acc: 0.9270\n",
      "Epoch 58/100\n",
      "100/100 [==============================] - 25s 248ms/step - loss: 0.0052 - acc: 0.9990 - val_loss: 0.3175 - val_acc: 0.9330\n"
     ]
    },
    {
     "name": "stdout",
     "output_type": "stream",
     "text": [
      "Epoch 59/100\n",
      "100/100 [==============================] - 25s 248ms/step - loss: 0.0088 - acc: 0.9980 - val_loss: 0.7988 - val_acc: 0.9340\n",
      "Epoch 60/100\n",
      "100/100 [==============================] - 25s 248ms/step - loss: 0.0120 - acc: 0.9965 - val_loss: 0.1723 - val_acc: 0.8800\n",
      "Epoch 61/100\n",
      "100/100 [==============================] - 25s 249ms/step - loss: 0.0090 - acc: 0.9965 - val_loss: 0.3442 - val_acc: 0.9340\n",
      "Epoch 62/100\n",
      "100/100 [==============================] - 25s 248ms/step - loss: 0.0034 - acc: 0.9990 - val_loss: 0.0750 - val_acc: 0.9350\n",
      "Epoch 63/100\n",
      "100/100 [==============================] - 25s 248ms/step - loss: 0.0030 - acc: 0.9995 - val_loss: 0.2371 - val_acc: 0.9330\n",
      "Epoch 64/100\n",
      "100/100 [==============================] - 25s 251ms/step - loss: 0.0078 - acc: 0.9970 - val_loss: 0.3437 - val_acc: 0.9250\n",
      "Epoch 65/100\n",
      "100/100 [==============================] - 25s 250ms/step - loss: 0.0086 - acc: 0.9975 - val_loss: 0.2762 - val_acc: 0.9330\n",
      "Epoch 66/100\n",
      "100/100 [==============================] - 25s 250ms/step - loss: 0.0081 - acc: 0.9975 - val_loss: 0.2412 - val_acc: 0.9200\n",
      "Epoch 67/100\n",
      "100/100 [==============================] - 25s 251ms/step - loss: 0.0043 - acc: 0.9980 - val_loss: 0.1439 - val_acc: 0.9060\n",
      "Epoch 68/100\n",
      "100/100 [==============================] - 26s 256ms/step - loss: 0.0036 - acc: 0.9990 - val_loss: 0.5982 - val_acc: 0.9360\n",
      "Epoch 69/100\n",
      "100/100 [==============================] - 25s 250ms/step - loss: 0.0078 - acc: 0.9965 - val_loss: 1.1072 - val_acc: 0.9270\n",
      "Epoch 70/100\n",
      "100/100 [==============================] - 25s 254ms/step - loss: 0.0086 - acc: 0.9985 - val_loss: 0.4893 - val_acc: 0.9310\n",
      "Epoch 71/100\n",
      "100/100 [==============================] - 25s 251ms/step - loss: 0.0077 - acc: 0.9975 - val_loss: 0.3718 - val_acc: 0.9380\n",
      "Epoch 72/100\n",
      "100/100 [==============================] - 25s 249ms/step - loss: 0.0039 - acc: 0.9985 - val_loss: 0.9298 - val_acc: 0.9380\n",
      "Epoch 73/100\n",
      "100/100 [==============================] - 25s 251ms/step - loss: 0.0057 - acc: 0.9980 - val_loss: 0.0126 - val_acc: 0.9380\n",
      "Epoch 74/100\n",
      "100/100 [==============================] - 25s 251ms/step - loss: 0.0020 - acc: 0.9995 - val_loss: 6.3864e-05 - val_acc: 0.9360\n",
      "Epoch 75/100\n",
      "100/100 [==============================] - 25s 254ms/step - loss: 0.0061 - acc: 0.9970 - val_loss: 0.0256 - val_acc: 0.9400\n",
      "Epoch 76/100\n",
      "100/100 [==============================] - 25s 250ms/step - loss: 0.0033 - acc: 0.9985 - val_loss: 0.1570 - val_acc: 0.9400\n",
      "Epoch 77/100\n",
      "100/100 [==============================] - 25s 248ms/step - loss: 0.0017 - acc: 1.0000 - val_loss: 0.0090 - val_acc: 0.9330\n",
      "Epoch 78/100\n",
      "100/100 [==============================] - 25s 248ms/step - loss: 0.0077 - acc: 0.9975 - val_loss: 1.2974 - val_acc: 0.9360\n",
      "Epoch 79/100\n",
      "100/100 [==============================] - 25s 248ms/step - loss: 0.0022 - acc: 0.9995 - val_loss: 0.9777 - val_acc: 0.9230\n",
      "Epoch 80/100\n",
      "100/100 [==============================] - 25s 248ms/step - loss: 0.0068 - acc: 0.9975 - val_loss: 0.2237 - val_acc: 0.9370\n",
      "Epoch 81/100\n",
      "100/100 [==============================] - 25s 248ms/step - loss: 0.0059 - acc: 0.9980 - val_loss: 0.0781 - val_acc: 0.9370\n",
      "Epoch 82/100\n",
      "100/100 [==============================] - 25s 249ms/step - loss: 0.0065 - acc: 0.9980 - val_loss: 0.1969 - val_acc: 0.9370\n",
      "Epoch 83/100\n",
      "100/100 [==============================] - 25s 248ms/step - loss: 0.0039 - acc: 0.9980 - val_loss: 0.5398 - val_acc: 0.9370\n",
      "Epoch 84/100\n",
      "100/100 [==============================] - 25s 248ms/step - loss: 0.0013 - acc: 1.0000 - val_loss: 0.6146 - val_acc: 0.9300\n",
      "Epoch 85/100\n",
      "100/100 [==============================] - 25s 248ms/step - loss: 0.0058 - acc: 0.9980 - val_loss: 0.8899 - val_acc: 0.9350\n",
      "Epoch 86/100\n",
      "100/100 [==============================] - 25s 248ms/step - loss: 0.0028 - acc: 0.9995 - val_loss: 0.0706 - val_acc: 0.9330\n",
      "Epoch 87/100\n",
      "100/100 [==============================] - 25s 248ms/step - loss: 0.0019 - acc: 0.9990 - val_loss: 0.8659 - val_acc: 0.8740\n",
      "Epoch 88/100\n",
      "100/100 [==============================] - 25s 248ms/step - loss: 0.0054 - acc: 0.9980 - val_loss: 0.7556 - val_acc: 0.9380\n",
      "Epoch 89/100\n",
      "100/100 [==============================] - 25s 248ms/step - loss: 0.0012 - acc: 0.9995 - val_loss: 0.4862 - val_acc: 0.9200\n",
      "Epoch 90/100\n",
      "100/100 [==============================] - 25s 248ms/step - loss: 0.0041 - acc: 0.9970 - val_loss: 0.0061 - val_acc: 0.9190\n",
      "Epoch 91/100\n",
      "100/100 [==============================] - 25s 248ms/step - loss: 0.0060 - acc: 0.9990 - val_loss: 4.6127e-07 - val_acc: 0.9310\n",
      "Epoch 92/100\n",
      "100/100 [==============================] - 25s 248ms/step - loss: 0.0041 - acc: 0.9975 - val_loss: 0.2331 - val_acc: 0.9290\n",
      "Epoch 93/100\n",
      "100/100 [==============================] - 25s 248ms/step - loss: 0.0022 - acc: 0.9990 - val_loss: 0.0041 - val_acc: 0.9410\n",
      "Epoch 94/100\n",
      "100/100 [==============================] - 25s 248ms/step - loss: 0.0018 - acc: 0.9990 - val_loss: 0.5687 - val_acc: 0.9340\n",
      "Epoch 95/100\n",
      "100/100 [==============================] - 25s 248ms/step - loss: 0.0019 - acc: 0.9995 - val_loss: 0.4047 - val_acc: 0.9300\n",
      "Epoch 96/100\n",
      "100/100 [==============================] - 25s 249ms/step - loss: 0.0011 - acc: 1.0000 - val_loss: 0.9535 - val_acc: 0.9430\n",
      "Epoch 97/100\n",
      "100/100 [==============================] - 25s 248ms/step - loss: 0.0013 - acc: 0.9995 - val_loss: 0.0047 - val_acc: 0.9340\n",
      "Epoch 98/100\n",
      "100/100 [==============================] - 25s 248ms/step - loss: 0.0030 - acc: 0.9990 - val_loss: 0.7684 - val_acc: 0.9050\n",
      "Epoch 99/100\n",
      "100/100 [==============================] - 25s 248ms/step - loss: 0.0070 - acc: 0.9975 - val_loss: 0.1428 - val_acc: 0.9340\n",
      "Epoch 100/100\n",
      "100/100 [==============================] - 25s 248ms/step - loss: 0.0051 - acc: 0.9975 - val_loss: 0.5221 - val_acc: 0.9350\n"
     ]
    }
   ],
   "source": [
    "model.compile(loss='binary_crossentropy',\n",
    "              optimizer=optimizers.RMSprop(lr=1e-5),\n",
    "              metrics=['acc'])\n",
    "\n",
    "history = model.fit_generator(\n",
    "      train_generator,\n",
    "      steps_per_epoch=100,\n",
    "      epochs=100,\n",
    "      validation_data=validation_generator,\n",
    "      validation_steps=50)"
   ]
  },
  {
   "cell_type": "code",
   "execution_count": 16,
   "metadata": {},
   "outputs": [],
   "source": [
    "model.save('cats_and_dogs_small_4.h5')"
   ]
  },
  {
   "cell_type": "markdown",
   "metadata": {},
   "source": [
    "이전과 동일한 코드로 결과 그래프를 그려 보겠습니다:"
   ]
  },
  {
   "cell_type": "code",
   "execution_count": 19,
   "metadata": {},
   "outputs": [
    {
     "data": {
      "image/png": "[encoded data removed]",
      "text/plain": [
       "<Figure size 432x288 with 1 Axes>"
      ]
     },
     "metadata": {
      "needs_background": "light"
     },
     "output_type": "display_data"
    },
    {
     "data": {
      "image/png": "[encoded data removed]",
      "text/plain": [
       "<Figure size 432x288 with 1 Axes>"
      ]
     },
     "metadata": {
      "needs_background": "light"
     },
     "output_type": "display_data"
    }
   ],
   "source": [
    "acc = history.history['acc']\n",
    "val_acc = history.history['val_acc']\n",
    "loss = history.history['loss']\n",
    "val_loss = history.history['val_loss']\n",
    "\n",
    "epochs = range(len(acc))\n",
    "\n",
    "plt.plot(epochs, acc, 'bo', label='Training acc')\n",
    "plt.plot(epochs, val_acc, 'b', label='Validation acc')\n",
    "plt.title('Training and validation accuracy')\n",
    "plt.legend()\n",
    "\n",
    "plt.figure()\n",
    "\n",
    "plt.plot(epochs, loss, 'bo', label='Training loss')\n",
    "plt.plot(epochs, val_loss, 'b', label='Validation loss')\n",
    "plt.title('Training and validation loss')\n",
    "plt.legend()\n",
    "\n",
    "plt.show()"
   ]
  },
  {
   "cell_type": "markdown",
   "metadata": {},
   "source": [
    "그래프가 불규칙하게 보입니다. 그래프를 보기 쉽게하기 위해 지수 이동 평균으로 정확도와 손실 값을 부드럽게 표현할 수 있습니다. 다음은 지수 이동 평균을 구하기 위한 간단한 함수입니다:"
   ]
  },
  {
   "cell_type": "code",
   "execution_count": 20,
   "metadata": {},
   "outputs": [
    {
     "data": {
      "image/png": "[encoded data removed]",
      "text/plain": [
       "<Figure size 432x288 with 1 Axes>"
      ]
     },
     "metadata": {
      "needs_background": "light"
     },
     "output_type": "display_data"
    },
    {
     "data": {
      "image/png": "[encoded data removed]",
      "text/plain": [
       "<Figure size 432x288 with 1 Axes>"
      ]
     },
     "metadata": {
      "needs_background": "light"
     },
     "output_type": "display_data"
    }
   ],
   "source": [
    "def smooth_curve(points, factor=0.8):\n",
    "  smoothed_points = []\n",
    "  for point in points:\n",
    "    if smoothed_points:\n",
    "      previous = smoothed_points[-1]\n",
    "      smoothed_points.append(previous * factor + point * (1 - factor))\n",
    "    else:\n",
    "      smoothed_points.append(point)\n",
    "  return smoothed_points\n",
    "\n",
    "plt.plot(epochs,\n",
    "         smooth_curve(acc), 'bo', label='Smoothed training acc')\n",
    "plt.plot(epochs,\n",
    "         smooth_curve(val_acc), 'b', label='Smoothed validation acc')\n",
    "plt.title('Training and validation accuracy')\n",
    "plt.legend()\n",
    "\n",
    "plt.figure()\n",
    "\n",
    "plt.plot(epochs,\n",
    "         smooth_curve(loss), 'bo', label='Smoothed training loss')\n",
    "plt.plot(epochs,\n",
    "         smooth_curve(val_loss), 'b', label='Smoothed validation loss')\n",
    "plt.title('Training and validation loss')\n",
    "plt.legend()\n",
    "\n",
    "plt.show()"
   ]
  },
  {
   "cell_type": "markdown",
   "metadata": {},
   "source": [
    "검증 정확도 곡선이 훨씬 깨끗하게 보입니다. 정확도가 확실히 1% 이상 향상되었습니다.\n",
    "\n",
    "손실 곡선은 실제 어떤 향상을 얻지 못했습니다(사실 악화되었습니다). 손실히 감소되지 않았는데 어떻게 정확도가 안정되거나 향상될 수 있을까요? 답은 간단합니다. 그래프는 개별적인 손실 값의 평균을 그린 것입니다. 하지만 정확도에 영향을 미치는 것은 손실 값의 분포이지 평균이 아닙니다. 정확도는 모델이 예측한 클래스 확률이 어떤 임계값을 넘었는지에 대한 결과이기 때문입니다. 모델이 더 향상더라도 평균 손실에 반영되지 않을 수 있습니다.\n",
    "\n",
    "이제 마지막으로 테스트 데이터에서 이 모델을 평가하겠습니다:"
   ]
  },
  {
   "cell_type": "code",
   "execution_count": 21,
   "metadata": {},
   "outputs": [
    {
     "name": "stdout",
     "output_type": "stream",
     "text": [
      "Found 1000 images belonging to 2 classes.\n",
      "test acc: 0.9380000233650208\n"
     ]
    }
   ],
   "source": [
    "test_generator = test_datagen.flow_from_directory(\n",
    "        test_dir,\n",
    "        target_size=(150, 150),\n",
    "        batch_size=20,\n",
    "        class_mode='binary')\n",
    "\n",
    "test_loss, test_acc = model.evaluate_generator(test_generator, steps=50)\n",
    "print('test acc:', test_acc)"
   ]
  },
  {
   "cell_type": "markdown",
   "metadata": {},
   "source": [
    "92%의 테스트 정확도를 얻을 것입니다. 이 데이터셋을 사용한 원래 캐글 경연 대회에서 꽤 높은 순위입니다. 하지만 최신 딥러닝 기법으로 훈련 데이터의 일부분(약 10%)만을 사용해서 이런 결과를 달성했습니다. 20,000개의 샘플에서 훈련하는 것과 2,000개의 샘플에서 훈련하는 것 사이에는 아주 큰 차이점이 있습니다!"
   ]
  },
  {
   "cell_type": "markdown",
   "metadata": {},
   "source": [
    "## 정리\n",
    "\n",
    "다음은 앞의 두 절에 있는 예제로부터 배운 것들입니다.\n",
    "\n",
    "* 컨브넷은 컴퓨터 비전 작업에 가장 뛰어난 머신 러닝 모델입니다. 아주 작은 데이터셋에서도 처음부터 훈련해서 괜찮은 성능을 낼 수 있습니다.\n",
    "* 작은 데이터셋에서는 과대적합이 큰 문제입니다. 데이터 증식은 이미지 데이터를 다룰 때 과대적합을 막을 수 있는 강력한 방법입니다.\n",
    "* 특성 추출 방식으로 새로운 데이터셋에 기존의 컨브넷을 쉽게 재사용할 수 있습니다. 작은 이미지 데이터셋으로 작업할 때 효과적인 기법입니다.\n",
    "* 특성 추출을 보완하기 위해 미세 조정을 사용할 수 있습니다. 미세 조정은 기존 모델에서 사전에 학습한 표현의 일부를 새로운 문제에 적응시킵니다. 이 기법은 조금 더 성능을 끌어올립니다.\n",
    "\n",
    "지금까지 이미지 분류 문제에서 특히 작은 데이터셋을 다루기 위한 좋은 도구들을 배웠습니다."
   ]
  }
 ],
 "metadata": {
  "kernelspec": {
   "display_name": "Python 3",
   "language": "python",
   "name": "python3"
  },
  "language_info": {
   "codemirror_mode": {
    "name": "ipython",
    "version": 3
   },
   "file_extension": ".py",
   "mimetype": "text/x-python",
   "name": "python",
   "nbconvert_exporter": "python",
   "pygments_lexer": "ipython3",
   "version": "3.7.4"
  }
 },
 "nbformat": 4,
 "nbformat_minor": 2
}
