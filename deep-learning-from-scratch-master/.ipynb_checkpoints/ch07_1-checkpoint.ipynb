{
 "cells": [
  {
   "cell_type": "markdown",
   "metadata": {},
   "source": [
    " # Chapter7 합성곱 신경망 (CNN)\n",
    " **Convolutional neural network**  \n",
    " ## 7.1 전체 구조\n",
    " **합성곱 계층** convolutional layer  \n",
    " **풀링 계층** pooling layer  \n",
    " **완전연결** fully connected, **Affine 계층**  \n",
    " <img style=\"float: left;\" src=\"equations_and_figures/fig%207-1.png\" width=\"600\">\n",
    " <img style=\"float: left;\" src=\"equations_and_figures/fig%207-2.png\" width=\"600\">  "
   ]
  },
  {
   "cell_type": "markdown",
   "metadata": {},
   "source": [
    "## 7.2 합성곱 계층\n",
    "**패딩** padding, **스트라이드** stride \n",
    "### 7.2.1 완전연결 계층의 문제점  \n",
    "데이터의 형상이 무시됨 (3차원 -> 1차원)  \n",
    "### 7.2.2 합성곱 연산  \n",
    " <img style=\"float: left;\" src=\"equations_and_figures/fig%207-3.png\" width=\"500\"> "
   ]
  },
  {
   "cell_type": "markdown",
   "metadata": {},
   "source": [
    "필터 = **커널**  \n",
    "합성곱 연산은 필터의 **윈도우**를 일정 간격으로 이동해가며 입력 데이터에 적용  \n",
    "**단일 곱셈-누산** fused multiply-add, FMA  \n",
    " <img style=\"float: left;\" src=\"equations_and_figures/fig%207-4.png\" width=\"500\">  \n",
    " <img style=\"float: left;\" src=\"equations_and_figures/fig%207-5.png\" width=\"600\"> "
   ]
  },
  {
   "cell_type": "markdown",
   "metadata": {},
   "source": [
    "### 7.2.3 패딩  \n",
    "합성곱 연산을 수행하기 전에 입력 데이터 주변을 특정 값(0)으로 채움; **패딩** padding  \n",
    "출력 크기를 조정할 목적으로 사용  \n",
    " <img style=\"float: left;\" src=\"equations_and_figures/fig%207-6.png\" width=\"500\">  "
   ]
  },
  {
   "cell_type": "markdown",
   "metadata": {},
   "source": [
    "### 7.2.4 스트라이드  \n",
    "필터를 적용하는 위치의 간격을 **스트라이드** stride  \n",
    "스트라이드를 키우면 출력 크기는 작아짐  \n",
    " <img style=\"float: left;\" src=\"equations_and_figures/fig%207-7.png\" width=\"500\">  "
   ]
  },
  {
   "cell_type": "markdown",
   "metadata": {},
   "source": [
    "패딩, 스트라이드, 출력 크기 계산  \n",
    "입력 크기 $(H, W)$  \n",
    "필터 크기 $(FH, FW)$  \n",
    "출력 크기 $(OH, OW)$  \n",
    "패딩 $P$  \n",
    "스트라이드 $S$  \n",
    "<img style=\"float: left;\" src=\"equations_and_figures/e%207.1.png\" width=\"200\">"
   ]
  },
  {
   "cell_type": "markdown",
   "metadata": {},
   "source": [
    "### 7.2.5 3차원 데이터의 합성곱 연산  \n",
    " 입력 데이터의 채널 수와 필터의 채널 수가 같아야 한다.  \n",
    " 모든 채널의 필터가 같은 크기여야 한다.  \n",
    " <img style=\"float: left;\" src=\"equations_and_figures/fig%207-8.png\" width=\"500\">  \n",
    " <img style=\"float: left;\" src=\"equations_and_figures/fig%207-9.png\" width=\"500\">\n"
   ]
  },
  {
   "cell_type": "markdown",
   "metadata": {},
   "source": [
    "### 7.2.6 블록으로 생각하기  \n",
    " <img style=\"float: left;\" src=\"equations_and_figures/fig%207-10.png\" width=\"500\">  \n",
    " <img style=\"float: left;\" src=\"equations_and_figures/fig%207-11.png\" width=\"500\">  \n",
    " <img style=\"float: left;\" src=\"equations_and_figures/fig%207-12.png\" width=\"650\">  "
   ]
  },
  {
   "cell_type": "markdown",
   "metadata": {},
   "source": [
    "### 7.2.7 배치 처리  \n",
    " <img style=\"float: left;\" src=\"equations_and_figures/fig%207-13.png\" width=\"650\">  "
   ]
  },
  {
   "cell_type": "markdown",
   "metadata": {},
   "source": [
    "## 7.3 풀링 계층  \n",
    "풀링은 세로 가로 방향의 공간을 줄이는 연산  \n",
    "2X2 **최대풀링** max pooling 을 스트라이드 2로 처리  \n",
    "최대 풀링 외에도 **평균 풀링** average pooling 등이 있다.  \n",
    " <img style=\"float: left;\" src=\"equations_and_figures/fig%207-14.png\" width=\"650\">  "
   ]
  },
  {
   "cell_type": "markdown",
   "metadata": {},
   "source": [
    "### 7.3.1 풀링 계층의 특징  \n",
    "- 학습해야 할 매개변수가 없다  \n",
    "- 채널 수가 변하지 않는다  \n",
    "- 입력의 변화에 영향을 적게 받는다 (강건하다)  \n",
    " <img style=\"float: left;\" src=\"equations_and_figures/fig%207-15.png\" width=\"450\">  \n",
    " <img style=\"float: left;\" src=\"equations_and_figures/fig%207-16.png\" width=\"550\">  \n"
   ]
  },
  {
   "cell_type": "markdown",
   "metadata": {},
   "source": [
    "## 7.4 합성곱/풀링 계층 구현하기\n",
    "### 7.4.1 4차원 배열"
   ]
  },
  {
   "cell_type": "code",
   "execution_count": null,
   "metadata": {},
   "outputs": [],
   "source": [
    "import numpy as np\n",
    "\n",
    "x = np.random.rand(10, 1, 28, 28)\n",
    "x.shape"
   ]
  },
  {
   "cell_type": "code",
   "execution_count": null,
   "metadata": {},
   "outputs": [],
   "source": [
    "x[0].shape\n",
    "x[1].shape"
   ]
  },
  {
   "cell_type": "code",
   "execution_count": null,
   "metadata": {},
   "outputs": [],
   "source": [
    "x[0, 0]"
   ]
  },
  {
   "cell_type": "markdown",
   "metadata": {},
   "source": [
    "### 7.4.2 im2col로 데이터 전개하기  \n",
    "im2col은 입력 데이터를 필터링 (가중치 계산)하기 좋게 전개하는(펼치는) 함수  \n",
    "배치 안의 데이터 수까지 포함한 4차원의 데이터를 2차원으로 변환  \n",
    " <img style=\"float: left;\" src=\"equations_and_figures/fig%207-17.png\" width=\"400\">  \n",
    " <img style=\"float: left;\" src=\"equations_and_figures/fig%207-18.png\" width=\"400\">  \n",
    " <img style=\"float: left;\" src=\"equations_and_figures/fig%207-19.png\" width=\"600\">  "
   ]
  },
  {
   "cell_type": "markdown",
   "metadata": {},
   "source": [
    "### 7.4.3 합성곱 계층 구현하기  "
   ]
  },
  {
   "cell_type": "code",
   "execution_count": null,
   "metadata": {},
   "outputs": [],
   "source": [
    "def im2col(input_data, filter_h, filter_w, stride=1, pad=0):\n",
    "    \"\"\"다수의 이미지를 입력받아 2차원 배열로 변환한다(평탄화).\n",
    "    \n",
    "    Parameters\n",
    "    ----------\n",
    "    input_data : 4차원 배열 형태의 입력 데이터(이미지 수, 채널 수, 높이, 너비)\n",
    "    filter_h : 필터의 높이\n",
    "    filter_w : 필터의 너비\n",
    "    stride : 스트라이드\n",
    "    pad : 패딩\n",
    "    \n",
    "    Returns\n",
    "    -------\n",
    "    col : 2차원 배열\n",
    "    \"\"\"\n",
    "    N, C, H, W = input_data.shape\n",
    "    out_h = (H + 2*pad - filter_h)//stride + 1\n",
    "    out_w = (W + 2*pad - filter_w)//stride + 1\n",
    "\n",
    "    img = np.pad(input_data, [(0,0), (0,0), (pad, pad), (pad, pad)], 'constant')\n",
    "    col = np.zeros((N, C, filter_h, filter_w, out_h, out_w))\n",
    "\n",
    "    for y in range(filter_h):\n",
    "        y_max = y + stride*out_h\n",
    "        for x in range(filter_w):\n",
    "            x_max = x + stride*out_w\n",
    "            col[:, :, y, x, :, :] = img[:, :, y:y_max:stride, x:x_max:stride]\n",
    "\n",
    "    col = col.transpose(0, 4, 5, 1, 2, 3).reshape(N*out_h*out_w, -1)\n",
    "    return col"
   ]
  },
  {
   "cell_type": "code",
   "execution_count": null,
   "metadata": {},
   "outputs": [],
   "source": [
    "import sys, os\n",
    "sys.path.append(os.pardir)\n",
    "from common.util import im2col\n",
    "\n",
    "x1 = np.random.rand(1, 3, 7, 7) # (데이터 수, 채널 수, 높이, 너비)\n",
    "col1 = im2col(x1, 5, 5, stride=1, pad=0)\n",
    "print(col1.shape)\n",
    "\n",
    "x2 = np.random.rand(10, 3, 7, 7) # 데이터 10개\n",
    "col2 = im2col(x2, 5, 5, stride=1, pad=0)\n",
    "print(col2.shape)"
   ]
  },
  {
   "cell_type": "code",
   "execution_count": null,
   "metadata": {},
   "outputs": [],
   "source": [
    "class Convolution:\n",
    "    def __init__(self, W, b, stride=1, pad=0):\n",
    "        self.W = W\n",
    "        self.b = b\n",
    "        self.stride = stride\n",
    "        self.pad = pad\n",
    "    \n",
    "    def forward(self, x):\n",
    "        FN, C, FH, FW = self.W.shape\n",
    "        N, C, H, W = x.shape\n",
    "        out_h = 1 + int((H + 2*self.pad - FH) / self.stride)\n",
    "        out_w = 1 + int((W + 2*self.pad - FW) / self.stride)\n",
    "\n",
    "        col = im2col(x, FH, FW, self.stride, self.pad)\n",
    "        col_W = self.W.reshape(FN, -1).T\n",
    "\n",
    "        out = np.dot(col, col_W) + self.b\n",
    "        out = out.reshape(N, out_h, out_w, -1).transpose(0, 3, 1, 2)\n",
    "\n",
    "        self.x = x\n",
    "        self.col = col\n",
    "        self.col_W = col_W\n",
    "\n",
    "        return out"
   ]
  },
  {
   "cell_type": "markdown",
   "metadata": {},
   "source": [
    " <img style=\"float: left;\" src=\"equations_and_figures/fig%207-20.png\" width=\"500\">  "
   ]
  },
  {
   "cell_type": "markdown",
   "metadata": {},
   "source": [
    "### 7.4.4 풀링 계층 구현하기  \n",
    "1. 입력 데이터를 전개한다.  \n",
    "2. 행별 최댓값을 구한다.  \n",
    "3. 적절한 모양으로 성형한다.  \n",
    " <img style=\"float: left;\" src=\"equations_and_figures/fig%207-21.png\" width=\"400\">  \n",
    " <img style=\"float: left;\" src=\"equations_and_figures/fig%207-22.png\" width=\"600\">  "
   ]
  },
  {
   "cell_type": "code",
   "execution_count": null,
   "metadata": {},
   "outputs": [],
   "source": [
    "class Pooling:\n",
    "    def __init__(self, pool_h, pool_w, stride=1, pad=0):\n",
    "        self.pool_h = pool_h\n",
    "        self.pool_w = pool_w\n",
    "        self.stride = stride\n",
    "        self.pad = pad\n",
    "\n",
    "    def forward(self, x):\n",
    "        N, C, H, W = x.shape\n",
    "        out_h = int(1 + (H - self.pool_h) / self.stride)\n",
    "        out_w = int(1 + (W - self.pool_w) / self.stride)\n",
    "\n",
    "        col = im2col(x, self.pool_h, self.pool_w, self.stride, self.pad)\n",
    "        col = col.reshape(-1, self.pool_h*self.pool_w)\n",
    "\n",
    "        out = np.max(col, axis=1)\n",
    "        out = out.reshape(N, out_h, out_w, C).transpose(0, 3, 1, 2)\n",
    "\n",
    "        self.x = x\n",
    "        self.arg_max = arg_max\n",
    "\n",
    "        return out"
   ]
  }
 ],
 "metadata": {
  "kernelspec": {
   "display_name": "Python 3",
   "language": "python",
   "name": "python3"
  },
  "language_info": {
   "codemirror_mode": {
    "name": "ipython",
    "version": 3
   },
   "file_extension": ".py",
   "mimetype": "text/x-python",
   "name": "python",
   "nbconvert_exporter": "python",
   "pygments_lexer": "ipython3",
   "version": "3.7.4"
  }
 },
 "nbformat": 4,
 "nbformat_minor": 2
}
