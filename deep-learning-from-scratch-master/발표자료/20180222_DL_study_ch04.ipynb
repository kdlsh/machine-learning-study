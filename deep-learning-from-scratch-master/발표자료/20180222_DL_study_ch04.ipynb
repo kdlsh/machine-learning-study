{
 "cells": [
  {
   "cell_type": "markdown",
   "metadata": {},
   "source": [
    "## 파일 설명\n",
    "| 파일명 | 파일 용도 | 관련 절 | 페이지 |\n",
    "|:--   |:--      |:--    |:--      |\n",
    "| gradient_1d.py | 수치 미분으로 기울기를 구합니다. | 4.3.2 수치 미분의 예 | 125 |\n",
    "| gradient_2d.py | 수치 미분으로 기울기를 구합니다(두 편미분을 동시에 계산). | 4.4 기울기 | 129 |\n",
    "| gradient_method.py | 경사하강법의 갱신 과정을 보여줍니다. | 4.4.1 경사법(경사 하강법) | 132 |\n",
    "| gradient_simplenet.py | simpleNet 클래스 | 4.4.2 신경망에서의 기울기 | 134 |\n",
    "| train_neuralnet.py | 미치배치 방식으로 학습하고 시험 데이터로 평가합니다. | 4.5.2 미니배치 학습 구현하기 / 4.5.3 시험 데이터로 평가하기 | 141, 143 |\n",
    "| two_layer_net.py | 2층 신경망 클래스 | 4.5.1 2층 신경망 클래스 구현하기 | 137 |\n",
    "\n",
    "## 4장 신경망 학습\n",
    "이번 장의 주제는 신경망 학습입니다. 여기서 **학습**이란 훈련 데이터로부터 가중치 매개변수의\n",
    "최적값을 자동으로 획득하는 것을 뜻합니다. 이번 장에서는 신경망이 학습할 수 있도록 해주는\n",
    "**지표**인 손실 함수를 소개합니다. 이 손실 함수의 결과값을 가장 작게 만드는 가중치 매개변수를\n",
    "찾는 것이 학습의 목표입니다. 이번 장에서는 손실 함수의 값을 가급적 작게 만드는 기법으로,\n",
    "함수의 기울기를 활용하는 경사법을 소개합니다."
   ]
  },
  {
   "cell_type": "markdown",
   "metadata": {},
   "source": [
    "# 4.1 데이터에서 학습한다\n",
    "## 4.1.1 데이터 주도 학습\n",
    "#### 특징(Feature) : 입력데이터에서 본질적인 데이터를 정확하게 추출할 수 있도록 설계된 변환기  이미지의 특징 : 벡터로 기술(i.e. 이미지를 벡터로 변환한다), \n",
    "#### SVM, KNN과 같은 기계학습에서는 SIFT, SURF, HOG 등의 특징을 사용  딥러닝에서는 특징 학습에서 사람이 개입할 여지가 없다(end-to-end)."
   ]
  },
  {
   "cell_type": "markdown",
   "metadata": {},
   "source": [
    "## 4.1.2 훈련 데이터와 시험 데이터\n",
    "#### 훈련 모델의 범용성을 위하여 훈련 데이터와 시험 데이터를 나눈다.\n",
    "#### 학습 데이터와 다른 데이터에 적용해도 올바른 결과가 나오는지 여부\n",
    "#### 오버피팅 : 특정 데이터에만 지나치게 최적화되어 다른 데이터에는 적용할 수 없는 경우"
   ]
  },
  {
   "cell_type": "markdown",
   "metadata": {},
   "source": [
    "# 4.2 손실함수 (Loss function)\n",
    "#### 현재의 신경망이 훈련 데이터를 얼마나 잘 처리하지 못하느냐(손실)를 나타내는 지표. \n",
    "## 4.2.1 평균 제곱 오차\n",
    "$ E = \\displaystyle \\frac{1}{2}\\displaystyle \\sum_{\\substack{k}} (y_k - t_k)^2 $\n",
    "##### $y_k$ 신경망의 출력, $t_k$ 정답레이블, k 데이터 차원 수"
   ]
  },
  {
   "cell_type": "code",
   "execution_count": 2,
   "metadata": {},
   "outputs": [],
   "source": [
    "import numpy as np\n",
    "import matplotlib.pylab as plt\n",
    "%matplotlib inline"
   ]
  },
  {
   "cell_type": "code",
   "execution_count": 3,
   "metadata": {},
   "outputs": [],
   "source": [
    "y = [0.1, 0.05, 0.6, 0.0, 0.05, 0.1, 0.0, 0.1, 0.0, 0.0]\n",
    "t = [0, 0, 1, 0, 0, 0, 0, 0, 0, 0] # One-hot encoding"
   ]
  },
  {
   "cell_type": "code",
   "execution_count": 4,
   "metadata": {},
   "outputs": [],
   "source": [
    "def mean_squared_error(y, t):\n",
    "    #return 0.5*np.sum((y-t)**2)\n",
    "    return 0.5*np.sum(np.square(y-t))"
   ]
  },
  {
   "cell_type": "code",
   "execution_count": 5,
   "metadata": {},
   "outputs": [
    {
     "data": {
      "text/plain": [
       "0.097500000000000031"
      ]
     },
     "execution_count": 5,
     "metadata": {},
     "output_type": "execute_result"
    }
   ],
   "source": [
    "mean_squared_error(np.array(y), np.array(t))"
   ]
  },
  {
   "cell_type": "markdown",
   "metadata": {},
   "source": [
    "## 4.2.2 교차 엔트로피 오차\n",
    "$ E = \\displaystyle - \\sum_{\\substack{k}} t_k \\ln y_k $\n",
    "##### $y_k$ 신경망의 출력, $t_k$ 정답레이블, k 데이터 차원 수\n",
    "![그림 4-3](../deep_learning_images/fig 4-3.png)\n"
   ]
  },
  {
   "cell_type": "code",
   "execution_count": 1,
   "metadata": {},
   "outputs": [],
   "source": [
    "def cross_entropy_error(y, t):\n",
    "    delta = 1e-7\n",
    "    return -np.sum(t*np.log(y+delta))"
   ]
  },
  {
   "cell_type": "code",
   "execution_count": 4,
   "metadata": {},
   "outputs": [
    {
     "data": {
      "text/plain": [
       "0.51082545709933802"
      ]
     },
     "execution_count": 4,
     "metadata": {},
     "output_type": "execute_result"
    }
   ],
   "source": [
    "cross_entropy_error(np.array(y), np.array(t))"
   ]
  },
  {
   "cell_type": "code",
   "execution_count": 5,
   "metadata": {},
   "outputs": [
    {
     "data": {
      "text/plain": [
       "2.3025840929945458"
      ]
     },
     "execution_count": 5,
     "metadata": {},
     "output_type": "execute_result"
    }
   ],
   "source": [
    "y = [0.1, 0.05, 0.1, 0.0, 0.05, 0.1, 0.0, 0.6, 0.0, 0.0]\n",
    "cross_entropy_error(np.array(y), np.array(t))"
   ]
  },
  {
   "cell_type": "markdown",
   "metadata": {},
   "source": [
    "## 4.2.3 미니배치 학습\n",
    "$ E = \\displaystyle - \\frac{1}{N} \\sum_{\\substack{n}} \\sum_{\\substack{k}} t_{nk} \\ln y_{nk} $\n",
    "#### MNIST dataset의 training set이 60,000개이고, 그 모든 데이터를 한꺼번에 집어넣고 손실함수의 합을 구하려면 시간이 걸린다. 더 나아가 빅데이터 수준이 되면 모든 데이터를 한번에 학습시키기는 불가능하다.\n",
    "#### 따라서 훈련 데이터 중에서 무작위로 일부만 골라 학습을 수행하고 그 일부를 미니배치라고 한다"
   ]
  },
  {
   "cell_type": "code",
   "execution_count": 4,
   "metadata": {},
   "outputs": [
    {
     "name": "stdout",
     "output_type": "stream",
     "text": [
      "(60000, 784)\n",
      "(60000, 10)\n"
     ]
    }
   ],
   "source": [
    "import sys, os\n",
    "sys.path.append(os.pardir)\n",
    "from dataset.mnist import load_mnist\n",
    "(x_train, t_train), (x_test, t_test) = load_mnist(normalize=True, one_hot_label=True)\n",
    "print(x_train.shape)\n",
    "print(t_train.shape)"
   ]
  },
  {
   "cell_type": "code",
   "execution_count": 5,
   "metadata": {},
   "outputs": [],
   "source": [
    "train_size = x_train.shape[0]\n",
    "batch_size = 10\n",
    "batch_mask = np.random.choice(train_size, batch_size)\n",
    "x_batch = x_train[batch_mask]\n",
    "t_batch = t_train[batch_mask]"
   ]
  },
  {
   "cell_type": "code",
   "execution_count": 6,
   "metadata": {},
   "outputs": [
    {
     "data": {
      "text/plain": [
       "array([38116, 47430, 40057, 16161, 46674, 41484,  1252, 14543, 57707, 19500])"
      ]
     },
     "execution_count": 6,
     "metadata": {},
     "output_type": "execute_result"
    }
   ],
   "source": [
    "np.random.choice(60000, 10)"
   ]
  },
  {
   "cell_type": "markdown",
   "metadata": {},
   "source": [
    "### 4.2.4 (배치용) 교차 엔트로피 오차 구현하기"
   ]
  },
  {
   "cell_type": "code",
   "execution_count": 1,
   "metadata": {},
   "outputs": [],
   "source": [
    "# 정답 레이블이 one-hot encoding일 때\n",
    "\n",
    "def cross_entropy_error(y, t):\n",
    "    if y.ndim == 1: # 데이터가 하나인 경우\n",
    "        t = t.reshape(1, t.size)\n",
    "        y = y.reshape(1, y.size)\n",
    "    batch_size = y.shape[0]\n",
    "    return -np.sum(t*np.log(y))/batch_size  # 정답(t)이 0이면 교차 엔트로피 오차도 자연스럽게 0이 된다"
   ]
  },
  {
   "cell_type": "code",
   "execution_count": 2,
   "metadata": {},
   "outputs": [],
   "source": [
    "# 정답 레이블이 숫자로 주어졌을 때\n",
    "\n",
    "def cross_entropy_error(y, t):\n",
    "    if y.ndim == 1:\n",
    "        t = t.reshape(1, t.size)\n",
    "        y = y.reshape(1, y.size)\n",
    "    batch_size = y.shape[0]\n",
    "    return -np.sum(np.log(y[np.arange(batch_size),t]))/batch_size\n",
    "# np.arange(batch_size)는 0부터 batch_size-1까지 numpy array를 만든다\n",
    "# t는 레이블이 저장된 list\n",
    "# y[np.arange(batch_size),t]는 각 데이터의 정답 레이블에 해당하는 신경망의 출력값을 추출한다."
   ]
  },
  {
   "cell_type": "markdown",
   "metadata": {},
   "source": [
    "### 4.2.5 왜 손실 함수를 설정하는가?\n",
    "#### 순방향 전파(Feed forward)로 나온 출력층(예측값)은 다음과 같다. 여기서 f는 활성화 함수이고, h는 은닉층을 구성하는 노드들을 의미한다\n",
    "$ y_k = \\displaystyle f(\\sum_{\\substack{k}} (w_k^h h_k)) $\n",
    "####  그 다음 예측값과 실제값의 차이인 에러를 구하고, 정확히는 에러의 최소평균제곱을 구하고 이를 가중치에 대한 미분값을 구한다. 손실함수 E를 Remind 해보자\n",
    "$ E = \\displaystyle \\frac{1}{2}\\displaystyle \\sum_{\\substack{k}} (y_k - t_k)^2 $\n",
    "#### 손실함수를 가중치 w로 미분을 하자\n",
    "$ \\displaystyle \\frac{\\partial{E}}{\\partial{w_k^h}} = -(y_k - t_k)\\frac{\\partial{t_k}}{\\partial{w_k^h}} = -(y_k - t_k)f'(\\sum_{\\substack{k}} (w_k^h h_k))h_k $\n",
    "#### 여기서 구한 미분값은 가중치를 업데이트하는데 사용된다. 업데이트는 항상 출력층에서부터 시작하여 feed forward의 반대인 역방향으로 진행된다(back propagation)\n",
    "#### 가중치를 업데이트할 때는 앞 단계에서 계산된 에러의 최소제곱평균의 미분값을 이용하여 학습률(learning rate)를 선정한 후 학습률만큼 수정된 가중치를 도출한다.\n",
    "$ w_k^h = w_k^h - \\displaystyle \\alpha \\frac{\\partial{E}}{\\partial{w_k^h}} = w_k^h + \\alpha(y_k - t_k)f'(\\sum_{\\substack{k}} (w_k^h h_k))h_k $\n",
    "#### 이제 책 119쪽의 설명으로 돌아와서 보면 신경망 학습에서 최적의(손실함수의 값을 최소화하는) 매개변수 값을 찾기 위해서 미분을 하게 되고, 정확도를 지표로 삼으면 손실함수의 미분이 대부분의 장소에서 0이 된다고 한다. 그리고 120쪽에서 보충설명을 하면서 정확도는 그 값이 불연속적으로 변하는 특성이 있으므로 계단함수(step function)을 활성화함수로 사용하지 않는 이유와 일맥상통한다고 한다. \n",
    "\n",
    "![그림4-4](../deep_learning_images/fig 4-4.png)\n"
   ]
  },
  {
   "cell_type": "markdown",
   "metadata": {},
   "source": [
    "# 4.3 수치 미분\n",
    "## 4.3.1 미분\n",
    "$ \\displaystyle \\frac{df(x)}{dx} = \\lim_{h \\to 0} \\frac{f(x+h)-f(x)}{h}$\n",
    "![그림 4-5](../deep_learning_images/fig 4-5.png)"
   ]
  },
  {
   "cell_type": "code",
   "execution_count": 8,
   "metadata": {},
   "outputs": [
    {
     "data": {
      "text/plain": [
       "0.0"
      ]
     },
     "execution_count": 8,
     "metadata": {},
     "output_type": "execute_result"
    }
   ],
   "source": [
    "np.float32(1e-50)  # 1e-50은 32비트 부동소수점으로 나타내면 0.0이 되어 반올림 오차문제를 일으킨다.\n",
    "# 따라서 해석적인 미분을 컴퓨터로 구현할 수 없고, numerically 미분의 근사치를 구해야 한다."
   ]
  },
  {
   "cell_type": "code",
   "execution_count": 7,
   "metadata": {},
   "outputs": [],
   "source": [
    "def numerical_diff(f, x):\n",
    "    h = 1e-4 # 0.0001\n",
    "    return (f(x+h) - f(x-h)) / (2*h)"
   ]
  },
  {
   "cell_type": "markdown",
   "metadata": {},
   "source": [
    "## 4.3.2 수치 미분의 예\n",
    "#### 아래의 함수를 미분해 보자\n",
    "$ \\displaystyle y = 0.01x^2 + 0.1x $"
   ]
  },
  {
   "cell_type": "code",
   "execution_count": 10,
   "metadata": {},
   "outputs": [],
   "source": [
    "def function_1(x):\n",
    "    return 0.01*x**2 + 0.1*x\n",
    "\n",
    "def tangent_line(f, x):\n",
    "    d = numerical_diff(f, x)\n",
    "    print(d)\n",
    "    y = f(x) - d*x\n",
    "    return lambda t: d*t + y"
   ]
  },
  {
   "cell_type": "code",
   "execution_count": 13,
   "metadata": {},
   "outputs": [
    {
     "name": "stdout",
     "output_type": "stream",
     "text": [
      "0.1999999999990898\n"
     ]
    },
    {
     "data": {
      "image/png": "[encoded data removed]",
      "text/plain": [
       "<matplotlib.figure.Figure at 0x7f534f6d9320>"
      ]
     },
     "metadata": {},
     "output_type": "display_data"
    }
   ],
   "source": [
    "x = np.arange(0.0, 20.0, 0.1)\n",
    "y = function_1(x)\n",
    "plt.xlabel(\"x\")\n",
    "plt.ylabel(\"f(x)\")\n",
    "\n",
    "tf = tangent_line(function_1, 5)\n",
    "y2 = tf(x)\n",
    "\n",
    "plt.plot(x, y)\n",
    "plt.plot(x, y2)\n",
    "plt.show()"
   ]
  },
  {
   "cell_type": "markdown",
   "metadata": {},
   "source": [
    "### 4.3.3 편미분\n",
    "$ \\displaystyle f(x_0, x_1) = x_0^2 + x_1^2 $\n",
    "![그림 4-8](../deep_learning_images/fig 4-8.png)"
   ]
  },
  {
   "cell_type": "code",
   "execution_count": 12,
   "metadata": {},
   "outputs": [],
   "source": [
    "def function_2(x):\n",
    "    if x.ndim == 1:\n",
    "        return np.sum(x**2)\n",
    "    else:\n",
    "        return np.sum(x**2, axis=1)"
   ]
  },
  {
   "cell_type": "markdown",
   "metadata": {},
   "source": [
    "$ \\displaystyle f(x_0, x_1) = x_0^2 + x_1^2 $\n",
    "#### 문제 1: $ x_0 = 3 $일 때, $ x_0 $에 대한 편미분 $ \\frac{\\partial f}{\\partial x_0} $를 구하라"
   ]
  },
  {
   "cell_type": "code",
   "execution_count": 9,
   "metadata": {},
   "outputs": [
    {
     "data": {
      "text/plain": [
       "6.0000000000037801"
      ]
     },
     "execution_count": 9,
     "metadata": {},
     "output_type": "execute_result"
    }
   ],
   "source": [
    "def function_tmp1(x0):\n",
    "    return np.square(x0) + np.power(4.0, 2.0)\n",
    "\n",
    "numerical_diff(function_tmp1, 3.0)"
   ]
  },
  {
   "cell_type": "markdown",
   "metadata": {},
   "source": [
    "#### 문제 2: $ x_0 = 3, x_1 = 4 $일 때, $ x_1 $에 대한 편미분 $ \\frac{\\partial f}{\\partial x_1} $를 구하라"
   ]
  },
  {
   "cell_type": "code",
   "execution_count": 10,
   "metadata": {},
   "outputs": [
    {
     "data": {
      "text/plain": [
       "7.9999999999991189"
      ]
     },
     "execution_count": 10,
     "metadata": {},
     "output_type": "execute_result"
    }
   ],
   "source": [
    "def function_tmp2(x1):\n",
    "    return np.power(3.0, 2.0) + np.square(x1)\n",
    "\n",
    "numerical_diff(function_tmp2, 4.0)"
   ]
  },
  {
   "cell_type": "markdown",
   "metadata": {},
   "source": [
    "## 4.4 기울기\n",
    "$ \\displaystyle \\nabla f = \\left(\\frac{\\partial f}{\\partial x_0}, \\frac{\\partial f}{\\partial x_1}, \\dots , \\frac{\\partial f}{\\partial x_k}\\right) $\n",
    "#### 기하학적으로는 함수 f의 가장 가파른 접선(tangent) 벡터를 의미한다. 기울기(gradient)는 경사하강법에 사용된다"
   ]
  },
  {
   "cell_type": "code",
   "execution_count": 11,
   "metadata": {},
   "outputs": [],
   "source": [
    "def _numerical_gradient_no_batch(f, x):\n",
    "    h = 1e-4 # 0.0001\n",
    "    grad = np.zeros_like(x) # x와 형상이 같은 배열을 생성\n",
    "    \n",
    "    for idx in range(x.size):\n",
    "        tmp_val = x[idx]\n",
    "        \n",
    "        # f(x+h) 계산\n",
    "        x[idx] = float(tmp_val) + h\n",
    "        fxh1 = f(x)\n",
    "        \n",
    "        # f(x-h) 계산\n",
    "        x[idx] = tmp_val - h \n",
    "        fxh2 = f(x) \n",
    "        \n",
    "        grad[idx] = (fxh1 - fxh2) / (2*h)\n",
    "        x[idx] = tmp_val # 값 복원\n",
    "        \n",
    "    return grad"
   ]
  },
  {
   "cell_type": "code",
   "execution_count": 13,
   "metadata": {},
   "outputs": [
    {
     "data": {
      "text/plain": [
       "array([ 6.,  8.])"
      ]
     },
     "execution_count": 13,
     "metadata": {},
     "output_type": "execute_result"
    }
   ],
   "source": [
    "_numerical_gradient_no_batch(function_2, np.array([3.0, 4.0]))"
   ]
  },
  {
   "cell_type": "code",
   "execution_count": 14,
   "metadata": {},
   "outputs": [
    {
     "data": {
      "text/plain": [
       "array([ 0.,  4.])"
      ]
     },
     "execution_count": 14,
     "metadata": {},
     "output_type": "execute_result"
    }
   ],
   "source": [
    "_numerical_gradient_no_batch(function_2, np.array([0.0, 2.0]))"
   ]
  },
  {
   "cell_type": "code",
   "execution_count": 17,
   "metadata": {},
   "outputs": [],
   "source": [
    "def numerical_gradient(f, X):\n",
    "    if X.ndim == 1:\n",
    "        return _numerical_gradient_no_batch(f, X)\n",
    "    else:\n",
    "        grad = np.zeros_like(X)\n",
    "        \n",
    "        for idx, x in enumerate(X):\n",
    "            grad[idx] = _numerical_gradient_no_batch(f, x)\n",
    "        \n",
    "        return grad"
   ]
  },
  {
   "cell_type": "markdown",
   "metadata": {},
   "source": [
    "### 4.4.1 경사 하강법\n",
    "#### 경사 하강법은 최적화 문제에서 Local Minima(극소값)를 구하는 데 사용되는 가장 보편적인 알고리즘이다. 위에서 살펴봤는데 여기서는 책의 notation에 따라 다시 표현해보자. 위에서의 가중치 w를 여기서는 x로, 손실함수 E를 여기서는 f로, 학습률 $\\alpha$를 여기서는 $\\eta$로 바꾼 것에 불과하다.\n",
    "#### 경사 하강법은 임의의 시작점에서 임의의 크기만큼 반복적으로 보정하면서 극소값으로 접근하는 방법으로 말할 수 있고, 극소값이 global minimum이면 정확한 해가 된다. 우리는 극소값에 가장 근접한 근사해를 구하는 것이 목적이다. 아래 수식에서 i는 반복 횟수를 의미한다.\n",
    "$ x(i+1) = x(i) + \\delta x(i)$\n",
    "#### 경사 하강법의 핵심은 $\\delta x(i)$를 구하는 것이다. $\\delta x(i)$는 벡터이므로 크기와 방향이 필요하다. 방향은 바로 위에서 다루었던 gradient이며, 크기는 i단계에서 다음 단계인 i+1까지 어느만큼의 거리로 이동할 것인가이다. 따라서 $\\delta x(i)$ 크기를 결정할 때에는 gradient 벡터가 갖는 크기에 추가적인 보정이 필요하다. 그 보정 방법이 바로 학습률이다.\n",
    "$ x_0 = x_0 - \\eta \\displaystyle \\frac{\\partial f}{\\partial x_0} \\\\ x_1 = x_1 - \\eta \\displaystyle \\frac{\\partial f}{\\partial x_1} $\n",
    "\n",
    "![fig](../deep_learning_images/Figure_fn.png)"
   ]
  },
  {
   "cell_type": "code",
   "execution_count": 18,
   "metadata": {},
   "outputs": [],
   "source": [
    "def gradient_descent(f, init_x, lr=0.01, step_num=100):\n",
    "    x = init_x\n",
    "    x_history = []\n",
    "\n",
    "    for i in range(step_num):\n",
    "        x_history.append( x.copy() )\n",
    "\n",
    "        grad = numerical_gradient(f, x)\n",
    "        x -= lr * grad\n",
    "\n",
    "    return x, np.array(x_history)"
   ]
  },
  {
   "cell_type": "markdown",
   "metadata": {},
   "source": [
    "#### 문제 : 경사법으로 $ f(x_0,x_1) = x_0^2 + x_1^2 $의 최소값을 구하여라"
   ]
  },
  {
   "cell_type": "code",
   "execution_count": 19,
   "metadata": {},
   "outputs": [
    {
     "data": {
      "text/plain": [
       "(array([ -6.11110793e-10,   8.14814391e-10]),\n",
       " array([[ -3.00000000e+00,   4.00000000e+00],\n",
       "        [ -2.40000000e+00,   3.20000000e+00],\n",
       "        [ -1.92000000e+00,   2.56000000e+00],\n",
       "        [ -1.53600000e+00,   2.04800000e+00],\n",
       "        [ -1.22880000e+00,   1.63840000e+00],\n",
       "        [ -9.83040000e-01,   1.31072000e+00],\n",
       "        [ -7.86432000e-01,   1.04857600e+00],\n",
       "        [ -6.29145600e-01,   8.38860800e-01],\n",
       "        [ -5.03316480e-01,   6.71088640e-01],\n",
       "        [ -4.02653184e-01,   5.36870912e-01],\n",
       "        [ -3.22122547e-01,   4.29496730e-01],\n",
       "        [ -2.57698038e-01,   3.43597384e-01],\n",
       "        [ -2.06158430e-01,   2.74877907e-01],\n",
       "        [ -1.64926744e-01,   2.19902326e-01],\n",
       "        [ -1.31941395e-01,   1.75921860e-01],\n",
       "        [ -1.05553116e-01,   1.40737488e-01],\n",
       "        [ -8.44424930e-02,   1.12589991e-01],\n",
       "        [ -6.75539944e-02,   9.00719925e-02],\n",
       "        [ -5.40431955e-02,   7.20575940e-02],\n",
       "        [ -4.32345564e-02,   5.76460752e-02],\n",
       "        [ -3.45876451e-02,   4.61168602e-02],\n",
       "        [ -2.76701161e-02,   3.68934881e-02],\n",
       "        [ -2.21360929e-02,   2.95147905e-02],\n",
       "        [ -1.77088743e-02,   2.36118324e-02],\n",
       "        [ -1.41670994e-02,   1.88894659e-02],\n",
       "        [ -1.13336796e-02,   1.51115727e-02],\n",
       "        [ -9.06694365e-03,   1.20892582e-02],\n",
       "        [ -7.25355492e-03,   9.67140656e-03],\n",
       "        [ -5.80284393e-03,   7.73712525e-03],\n",
       "        [ -4.64227515e-03,   6.18970020e-03],\n",
       "        [ -3.71382012e-03,   4.95176016e-03],\n",
       "        [ -2.97105609e-03,   3.96140813e-03],\n",
       "        [ -2.37684488e-03,   3.16912650e-03],\n",
       "        [ -1.90147590e-03,   2.53530120e-03],\n",
       "        [ -1.52118072e-03,   2.02824096e-03],\n",
       "        [ -1.21694458e-03,   1.62259277e-03],\n",
       "        [ -9.73555661e-04,   1.29807421e-03],\n",
       "        [ -7.78844529e-04,   1.03845937e-03],\n",
       "        [ -6.23075623e-04,   8.30767497e-04],\n",
       "        [ -4.98460498e-04,   6.64613998e-04],\n",
       "        [ -3.98768399e-04,   5.31691198e-04],\n",
       "        [ -3.19014719e-04,   4.25352959e-04],\n",
       "        [ -2.55211775e-04,   3.40282367e-04],\n",
       "        [ -2.04169420e-04,   2.72225894e-04],\n",
       "        [ -1.63335536e-04,   2.17780715e-04],\n",
       "        [ -1.30668429e-04,   1.74224572e-04],\n",
       "        [ -1.04534743e-04,   1.39379657e-04],\n",
       "        [ -8.36277945e-05,   1.11503726e-04],\n",
       "        [ -6.69022356e-05,   8.92029808e-05],\n",
       "        [ -5.35217885e-05,   7.13623846e-05],\n",
       "        [ -4.28174308e-05,   5.70899077e-05],\n",
       "        [ -3.42539446e-05,   4.56719262e-05],\n",
       "        [ -2.74031557e-05,   3.65375409e-05],\n",
       "        [ -2.19225246e-05,   2.92300327e-05],\n",
       "        [ -1.75380196e-05,   2.33840262e-05],\n",
       "        [ -1.40304157e-05,   1.87072210e-05],\n",
       "        [ -1.12243326e-05,   1.49657768e-05],\n",
       "        [ -8.97946606e-06,   1.19726214e-05],\n",
       "        [ -7.18357285e-06,   9.57809713e-06],\n",
       "        [ -5.74685828e-06,   7.66247770e-06],\n",
       "        [ -4.59748662e-06,   6.12998216e-06],\n",
       "        [ -3.67798930e-06,   4.90398573e-06],\n",
       "        [ -2.94239144e-06,   3.92318858e-06],\n",
       "        [ -2.35391315e-06,   3.13855087e-06],\n",
       "        [ -1.88313052e-06,   2.51084069e-06],\n",
       "        [ -1.50650442e-06,   2.00867256e-06],\n",
       "        [ -1.20520353e-06,   1.60693804e-06],\n",
       "        [ -9.64162827e-07,   1.28555044e-06],\n",
       "        [ -7.71330261e-07,   1.02844035e-06],\n",
       "        [ -6.17064209e-07,   8.22752279e-07],\n",
       "        [ -4.93651367e-07,   6.58201823e-07],\n",
       "        [ -3.94921094e-07,   5.26561458e-07],\n",
       "        [ -3.15936875e-07,   4.21249167e-07],\n",
       "        [ -2.52749500e-07,   3.36999333e-07],\n",
       "        [ -2.02199600e-07,   2.69599467e-07],\n",
       "        [ -1.61759680e-07,   2.15679573e-07],\n",
       "        [ -1.29407744e-07,   1.72543659e-07],\n",
       "        [ -1.03526195e-07,   1.38034927e-07],\n",
       "        [ -8.28209562e-08,   1.10427942e-07],\n",
       "        [ -6.62567649e-08,   8.83423532e-08],\n",
       "        [ -5.30054119e-08,   7.06738826e-08],\n",
       "        [ -4.24043296e-08,   5.65391061e-08],\n",
       "        [ -3.39234636e-08,   4.52312849e-08],\n",
       "        [ -2.71387709e-08,   3.61850279e-08],\n",
       "        [ -2.17110167e-08,   2.89480223e-08],\n",
       "        [ -1.73688134e-08,   2.31584178e-08],\n",
       "        [ -1.38950507e-08,   1.85267343e-08],\n",
       "        [ -1.11160406e-08,   1.48213874e-08],\n",
       "        [ -8.89283245e-09,   1.18571099e-08],\n",
       "        [ -7.11426596e-09,   9.48568795e-09],\n",
       "        [ -5.69141277e-09,   7.58855036e-09],\n",
       "        [ -4.55313022e-09,   6.07084029e-09],\n",
       "        [ -3.64250417e-09,   4.85667223e-09],\n",
       "        [ -2.91400334e-09,   3.88533778e-09],\n",
       "        [ -2.33120267e-09,   3.10827023e-09],\n",
       "        [ -1.86496214e-09,   2.48661618e-09],\n",
       "        [ -1.49196971e-09,   1.98929295e-09],\n",
       "        [ -1.19357577e-09,   1.59143436e-09],\n",
       "        [ -9.54860614e-10,   1.27314749e-09],\n",
       "        [ -7.63888491e-10,   1.01851799e-09]]))"
      ]
     },
     "execution_count": 19,
     "metadata": {},
     "output_type": "execute_result"
    }
   ],
   "source": [
    "init_x = np.array([-3.0,4.0])\n",
    "gradient_descent(function_2, init_x=init_x, lr=0.1, step_num=100)"
   ]
  },
  {
   "cell_type": "code",
   "execution_count": 20,
   "metadata": {},
   "outputs": [],
   "source": [
    "def tangent_line(f, x):\n",
    "    d = numerical_gradient(f, x)\n",
    "    print(d)\n",
    "    y = f(x) - d*x\n",
    "    return lambda t: d*t + y"
   ]
  },
  {
   "cell_type": "code",
   "execution_count": 29,
   "metadata": {},
   "outputs": [
    {
     "data": {
      "image/png": "[encoded data removed]",
      "text/plain": [
       "<matplotlib.figure.Figure at 0x7fa50410b860>"
      ]
     },
     "metadata": {},
     "output_type": "display_data"
    }
   ],
   "source": [
    "init_x = np.array([-3.0, 4.0])    \n",
    "\n",
    "lr = 0.1\n",
    "step_num = 20\n",
    "x, x_history = gradient_descent(function_2, init_x, lr=lr, step_num=step_num)\n",
    "\n",
    "\n",
    "fig=plt.figure(1)\n",
    "ax=fig.add_subplot(1,1,1)\n",
    "plt.plot( [-5, 5], [0,0], '--b')\n",
    "plt.plot( [0,0], [-5, 5], '--b')\n",
    "circ=plt.Circle((0,0), radius=1, color='b', fill=False)\n",
    "circ2=plt.Circle((0,0), radius=2, color='b', fill=False)\n",
    "circ3=plt.Circle((0,0), radius=3, color='b', fill=False)\n",
    "circ4=plt.Circle((0,0), radius=4, color='b', fill=False)\n",
    "ax.add_patch(circ)\n",
    "ax.add_patch(circ2)\n",
    "ax.add_patch(circ3)\n",
    "ax.add_patch(circ4)\n",
    "plt.plot(x_history[:,0], x_history[:,1], 'o')\n",
    "\n",
    "plt.xlim(-4.5, 4.5)\n",
    "plt.ylim(-4.5, 4.5)\n",
    "plt.xlabel(\"X0\")\n",
    "plt.ylabel(\"X1\")\n",
    "plt.show()"
   ]
  },
  {
   "cell_type": "code",
   "execution_count": null,
   "metadata": {},
   "outputs": [],
   "source": []
  }
 ],
 "metadata": {
  "anaconda-cloud": {},
  "kernelspec": {
   "display_name": "Python 3",
   "language": "python",
   "name": "python3"
  },
  "language_info": {
   "codemirror_mode": {
    "name": "ipython",
    "version": 3
   },
   "file_extension": ".py",
   "mimetype": "text/x-python",
   "name": "python",
   "nbconvert_exporter": "python",
   "pygments_lexer": "ipython3",
   "version": "3.6.4"
  }
 },
 "nbformat": 4,
 "nbformat_minor": 2
}
