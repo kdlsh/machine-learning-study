{
 "cells": [
  {
   "cell_type": "code",
   "execution_count": 2,
   "metadata": {},
   "outputs": [
    {
     "name": "stdout",
     "output_type": "stream",
     "text": [
      "버전:  3.1.1\n",
      "설치 위치:  c:\\program files\\python37\\lib\\site-packages\\matplotlib\\__init__.py\n",
      "설정 위치:  C:\\Users\\User\\.matplotlib\n",
      "캐시 위치:  C:\\Users\\User\\.matplotlib\n",
      "391\n",
      "[('NanumMyeongjo', 'C:\\\\Windows\\\\Fonts\\\\NanumMyeongjoBold.ttf'), ('NanumMyeongjo', 'C:\\\\Windows\\\\Fonts\\\\NanumMyeongjo.ttf'), ('NanumSquare', 'C:\\\\Windows\\\\Fonts\\\\NanumSquareB.ttf'), ('NanumBarunGothic', 'C:\\\\Windows\\\\Fonts\\\\NanumBarunGothicLightSubset.ttf'), ('NanumSquare', 'C:\\\\Windows\\\\Fonts\\\\NanumSquareEB.ttf'), ('NanumBarunpen', 'C:\\\\Windows\\\\Fonts\\\\NanumBarunpenB.ttf'), ('NanumBarunpen', 'C:\\\\Windows\\\\Fonts\\\\NanumBarunpenR.ttf'), ('NanumSquare', 'C:\\\\Windows\\\\Fonts\\\\NanumSquareR.ttf'), ('NanumSquareRound', 'C:\\\\Windows\\\\Fonts\\\\NanumSquareRoundB.ttf'), ('NanumBarunGothic', 'C:\\\\Windows\\\\Fonts\\\\NanumBarunGothicUltraLightSubset.ttf'), ('NanumMyeongjo', 'C:\\\\Windows\\\\Fonts\\\\NanumMyeongjoExtraBold.ttf'), ('NanumSquareRound', 'C:\\\\Windows\\\\Fonts\\\\NanumSquareRoundR.ttf'), ('NanumSquareRound', 'C:\\\\Windows\\\\Fonts\\\\NanumSquareRoundEB.ttf'), ('NanumSquareRound', 'C:\\\\Windows\\\\Fonts\\\\NanumSquareRoundL.ttf'), ('NanumSquare', 'C:\\\\Windows\\\\Fonts\\\\NanumSquareL.ttf'), ('NanumBarunGothic', 'C:\\\\Windows\\\\Fonts\\\\NanumBarunGothicSubset.ttf'), ('Nanum Brush Script', 'C:\\\\Windows\\\\Fonts\\\\NanumBrush.ttf'), ('NanumBarunGothic', 'C:\\\\Windows\\\\Fonts\\\\NanumBarunGothicBold.ttf'), ('NanumBarunGothic', 'C:\\\\Windows\\\\Fonts\\\\NanumBarunGothicLight.ttf'), ('NanumBarunGothic', 'C:\\\\Windows\\\\Fonts\\\\NanumBarunGothicBoldSubset.ttf'), ('NanumBarunGothic', 'C:\\\\Windows\\\\Fonts\\\\NanumBarunGothic.ttf'), ('Nanum Pen Script', 'C:\\\\Windows\\\\Fonts\\\\NanumPen.ttf'), ('NanumBarunGothic', 'C:\\\\Windows\\\\Fonts\\\\NanumBarunGothicUltraLight.ttf')]\n"
     ]
    },
    {
     "data": {
      "text/plain": [
       "'C:\\\\Users\\\\User\\\\.matplotlib'"
      ]
     },
     "execution_count": 2,
     "metadata": {},
     "output_type": "execute_result"
    }
   ],
   "source": [
    "# 그래프를 노트북 안에 그리기 위해 설정\n",
    "%matplotlib inline\n",
    "\n",
    "# 필요한 패키지와 라이브러리를 가져옴\n",
    "import matplotlib as mpl\n",
    "import matplotlib.pyplot as plt\n",
    "import matplotlib.font_manager as fm\n",
    "\n",
    "print ('버전: ', mpl.__version__)\n",
    "print ('설치 위치: ', mpl.__file__)\n",
    "print ('설정 위치: ', mpl.get_configdir())\n",
    "print ('캐시 위치: ', mpl.get_cachedir())\n",
    "\n",
    "font_list = fm.findSystemFonts(fontpaths=None, fontext='ttf')\n",
    "print(len(font_list)) \n",
    "\n",
    "#print(fm.fontManager.ttflist)\n",
    "print([(f.name, f.fname) for f in fm.fontManager.ttflist if 'Nanum' in f.name])\n",
    "#print([(f.name, f.fname) for f in fm.fontManager.ttflist])\n",
    "\n",
    "mpl.get_cachedir()"
   ]
  },
  {
   "cell_type": "code",
   "execution_count": null,
   "metadata": {},
   "outputs": [],
   "source": []
  }
 ],
 "metadata": {
  "kernelspec": {
   "display_name": "Python 3",
   "language": "python",
   "name": "python3"
  },
  "language_info": {
   "codemirror_mode": {
    "name": "ipython",
    "version": 3
   },
   "file_extension": ".py",
   "mimetype": "text/x-python",
   "name": "python",
   "nbconvert_exporter": "python",
   "pygments_lexer": "ipython3",
   "version": "3.7.4"
  }
 },
 "nbformat": 4,
 "nbformat_minor": 2
}
